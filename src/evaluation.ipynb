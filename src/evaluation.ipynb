{
 "cells": [
  {
   "attachments": {},
   "cell_type": "markdown",
   "metadata": {},
   "source": [
    "# Evaluation Metrics"
   ]
  },
  {
   "cell_type": "code",
   "execution_count": 185,
   "metadata": {},
   "outputs": [],
   "source": [
    "import pandas as pd\n",
    "import numpy as np\n",
    "import os\n",
    "from scipy.stats import friedmanchisquare\n",
    "\n",
    "# change to your local path to project below\n",
    "project_path = '/home/jorge/Insync/jorgitoje@gmail.com/OneDrive/Documentos/JORGE/EDUCATION/MASTER_DATASCIENCE/Semester1/AdvancedStatistics/GroupProject/KDS_Statistics_GroupProject'\n",
    "# change to dataset name you want to analyze\n",
    "dataset_name = 'USAhouseprices2014' # check \"features_ranks.csv\" \"dataset\" column for unique values"
   ]
  },
  {
   "cell_type": "code",
   "execution_count": 186,
   "metadata": {},
   "outputs": [
    {
     "data": {
      "text/html": [
       "<div>\n",
       "<style scoped>\n",
       "    .dataframe tbody tr th:only-of-type {\n",
       "        vertical-align: middle;\n",
       "    }\n",
       "\n",
       "    .dataframe tbody tr th {\n",
       "        vertical-align: top;\n",
       "    }\n",
       "\n",
       "    .dataframe thead tr th {\n",
       "        text-align: left;\n",
       "    }\n",
       "</style>\n",
       "<table border=\"1\" class=\"dataframe\">\n",
       "  <thead>\n",
       "    <tr>\n",
       "      <th></th>\n",
       "      <th>dataset</th>\n",
       "      <th>feature_name</th>\n",
       "      <th colspan=\"3\" halign=\"left\">feature_rank</th>\n",
       "    </tr>\n",
       "    <tr>\n",
       "      <th>method</th>\n",
       "      <th></th>\n",
       "      <th></th>\n",
       "      <th>PCA</th>\n",
       "      <th>RandomForest</th>\n",
       "      <th>linear_regression</th>\n",
       "    </tr>\n",
       "  </thead>\n",
       "  <tbody>\n",
       "    <tr>\n",
       "      <th>0</th>\n",
       "      <td>USAhouseprices2014</td>\n",
       "      <td>bathrooms</td>\n",
       "      <td>7</td>\n",
       "      <td>3</td>\n",
       "      <td>3</td>\n",
       "    </tr>\n",
       "    <tr>\n",
       "      <th>1</th>\n",
       "      <td>USAhouseprices2014</td>\n",
       "      <td>bedrooms</td>\n",
       "      <td>2</td>\n",
       "      <td>2</td>\n",
       "      <td>2</td>\n",
       "    </tr>\n",
       "    <tr>\n",
       "      <th>2</th>\n",
       "      <td>USAhouseprices2014</td>\n",
       "      <td>city</td>\n",
       "      <td>15</td>\n",
       "      <td>15</td>\n",
       "      <td>15</td>\n",
       "    </tr>\n",
       "    <tr>\n",
       "      <th>3</th>\n",
       "      <td>USAhouseprices2014</td>\n",
       "      <td>condition</td>\n",
       "      <td>9</td>\n",
       "      <td>9</td>\n",
       "      <td>9</td>\n",
       "    </tr>\n",
       "    <tr>\n",
       "      <th>4</th>\n",
       "      <td>USAhouseprices2014</td>\n",
       "      <td>country</td>\n",
       "      <td>17</td>\n",
       "      <td>17</td>\n",
       "      <td>17</td>\n",
       "    </tr>\n",
       "    <tr>\n",
       "      <th>5</th>\n",
       "      <td>USAhouseprices2014</td>\n",
       "      <td>date</td>\n",
       "      <td>1</td>\n",
       "      <td>1</td>\n",
       "      <td>1</td>\n",
       "    </tr>\n",
       "    <tr>\n",
       "      <th>6</th>\n",
       "      <td>USAhouseprices2014</td>\n",
       "      <td>floors</td>\n",
       "      <td>6</td>\n",
       "      <td>6</td>\n",
       "      <td>6</td>\n",
       "    </tr>\n",
       "    <tr>\n",
       "      <th>7</th>\n",
       "      <td>USAhouseprices2014</td>\n",
       "      <td>have_basement</td>\n",
       "      <td>19</td>\n",
       "      <td>19</td>\n",
       "      <td>19</td>\n",
       "    </tr>\n",
       "    <tr>\n",
       "      <th>8</th>\n",
       "      <td>USAhouseprices2014</td>\n",
       "      <td>last_modification</td>\n",
       "      <td>18</td>\n",
       "      <td>18</td>\n",
       "      <td>18</td>\n",
       "    </tr>\n",
       "    <tr>\n",
       "      <th>9</th>\n",
       "      <td>USAhouseprices2014</td>\n",
       "      <td>sqft_above</td>\n",
       "      <td>10</td>\n",
       "      <td>10</td>\n",
       "      <td>10</td>\n",
       "    </tr>\n",
       "    <tr>\n",
       "      <th>10</th>\n",
       "      <td>USAhouseprices2014</td>\n",
       "      <td>sqft_basement</td>\n",
       "      <td>11</td>\n",
       "      <td>11</td>\n",
       "      <td>11</td>\n",
       "    </tr>\n",
       "    <tr>\n",
       "      <th>11</th>\n",
       "      <td>USAhouseprices2014</td>\n",
       "      <td>sqft_living</td>\n",
       "      <td>4</td>\n",
       "      <td>4</td>\n",
       "      <td>4</td>\n",
       "    </tr>\n",
       "    <tr>\n",
       "      <th>12</th>\n",
       "      <td>USAhouseprices2014</td>\n",
       "      <td>sqft_lot</td>\n",
       "      <td>5</td>\n",
       "      <td>5</td>\n",
       "      <td>5</td>\n",
       "    </tr>\n",
       "    <tr>\n",
       "      <th>13</th>\n",
       "      <td>USAhouseprices2014</td>\n",
       "      <td>statezip</td>\n",
       "      <td>16</td>\n",
       "      <td>16</td>\n",
       "      <td>16</td>\n",
       "    </tr>\n",
       "    <tr>\n",
       "      <th>14</th>\n",
       "      <td>USAhouseprices2014</td>\n",
       "      <td>street</td>\n",
       "      <td>14</td>\n",
       "      <td>14</td>\n",
       "      <td>14</td>\n",
       "    </tr>\n",
       "    <tr>\n",
       "      <th>15</th>\n",
       "      <td>USAhouseprices2014</td>\n",
       "      <td>view</td>\n",
       "      <td>8</td>\n",
       "      <td>8</td>\n",
       "      <td>8</td>\n",
       "    </tr>\n",
       "    <tr>\n",
       "      <th>16</th>\n",
       "      <td>USAhouseprices2014</td>\n",
       "      <td>waterfront</td>\n",
       "      <td>3</td>\n",
       "      <td>7</td>\n",
       "      <td>7</td>\n",
       "    </tr>\n",
       "    <tr>\n",
       "      <th>17</th>\n",
       "      <td>USAhouseprices2014</td>\n",
       "      <td>yr_built</td>\n",
       "      <td>12</td>\n",
       "      <td>12</td>\n",
       "      <td>12</td>\n",
       "    </tr>\n",
       "    <tr>\n",
       "      <th>18</th>\n",
       "      <td>USAhouseprices2014</td>\n",
       "      <td>yr_renovated</td>\n",
       "      <td>13</td>\n",
       "      <td>13</td>\n",
       "      <td>13</td>\n",
       "    </tr>\n",
       "  </tbody>\n",
       "</table>\n",
       "</div>"
      ],
      "text/plain": [
       "                   dataset       feature_name feature_rank               \\\n",
       "method                                                 PCA RandomForest   \n",
       "0       USAhouseprices2014          bathrooms            7            3   \n",
       "1       USAhouseprices2014           bedrooms            2            2   \n",
       "2       USAhouseprices2014               city           15           15   \n",
       "3       USAhouseprices2014          condition            9            9   \n",
       "4       USAhouseprices2014            country           17           17   \n",
       "5       USAhouseprices2014               date            1            1   \n",
       "6       USAhouseprices2014             floors            6            6   \n",
       "7       USAhouseprices2014      have_basement           19           19   \n",
       "8       USAhouseprices2014  last_modification           18           18   \n",
       "9       USAhouseprices2014         sqft_above           10           10   \n",
       "10      USAhouseprices2014      sqft_basement           11           11   \n",
       "11      USAhouseprices2014        sqft_living            4            4   \n",
       "12      USAhouseprices2014           sqft_lot            5            5   \n",
       "13      USAhouseprices2014           statezip           16           16   \n",
       "14      USAhouseprices2014             street           14           14   \n",
       "15      USAhouseprices2014               view            8            8   \n",
       "16      USAhouseprices2014         waterfront            3            7   \n",
       "17      USAhouseprices2014           yr_built           12           12   \n",
       "18      USAhouseprices2014       yr_renovated           13           13   \n",
       "\n",
       "                          \n",
       "method linear_regression  \n",
       "0                      3  \n",
       "1                      2  \n",
       "2                     15  \n",
       "3                      9  \n",
       "4                     17  \n",
       "5                      1  \n",
       "6                      6  \n",
       "7                     19  \n",
       "8                     18  \n",
       "9                     10  \n",
       "10                    11  \n",
       "11                     4  \n",
       "12                     5  \n",
       "13                    16  \n",
       "14                    14  \n",
       "15                     8  \n",
       "16                     7  \n",
       "17                    12  \n",
       "18                    13  "
      ]
     },
     "execution_count": 186,
     "metadata": {},
     "output_type": "execute_result"
    }
   ],
   "source": [
    "\n",
    "dataset_path = os.path.join(project_path, 'data/features_ranks_FAKE.csv')\n",
    "data_long = pd.read_csv(dataset_path, sep=\";\").query(\"dataset == @dataset_name\")\n",
    "data_wide = data_long.pivot( index=['dataset', 'feature_name'], columns=['method'], \n",
    "    values=['feature_rank']).reset_index()\n",
    "data_wide"
   ]
  },
  {
   "attachments": {},
   "cell_type": "markdown",
   "metadata": {},
   "source": [
    "## Kendall's W"
   ]
  },
  {
   "attachments": {},
   "cell_type": "markdown",
   "metadata": {},
   "source": [
    "### Using friedmanchisquare\n",
    "(DOES NOT seem to work and requires manually putting all columns)"
   ]
  },
  {
   "cell_type": "code",
   "execution_count": 187,
   "metadata": {},
   "outputs": [
    {
     "name": "stdout",
     "output_type": "stream",
     "text": [
      "n: 19,k: 3, Q: 0.0\n"
     ]
    }
   ],
   "source": [
    "data_kendall = data_wide['feature_rank'].astype(int)\n",
    "\n",
    "spRes = friedmanchisquare(data_kendall['PCA'].to_numpy(), data_kendall['RandomForest'].to_numpy(), data_kendall['linear_regression'].to_numpy())\n",
    "# spRes = friedmanchisquare(*[data_kendall[column] for column in data_kendall.columns])\n",
    "# friedmanchisquare()\n",
    "# selData()\n",
    "n = data_kendall.shape[0]\n",
    "k = data_kendall.shape[1]\n",
    "Q = spRes[0]\n",
    "print(f\"n: {n},k: {k}, Q: {Q}\")"
   ]
  },
  {
   "cell_type": "code",
   "execution_count": 188,
   "metadata": {},
   "outputs": [
    {
     "name": "stdout",
     "output_type": "stream",
     "text": [
      "W: 0.0\n"
     ]
    }
   ],
   "source": [
    "W = Q / (n*(k-1))\n",
    "print(f\"W: {W}\")"
   ]
  },
  {
   "attachments": {},
   "cell_type": "markdown",
   "metadata": {},
   "source": [
    "### Using direct formula"
   ]
  },
  {
   "cell_type": "code",
   "execution_count": 189,
   "metadata": {},
   "outputs": [
    {
     "name": "stdout",
     "output_type": "stream",
     "text": [
      "0.9875243664717349\n"
     ]
    }
   ],
   "source": [
    "def calculate_kendallW(data_kendall):\n",
    "    '''_summary_\n",
    "\n",
    "    Args:\n",
    "        data_kendall (pd.dataframe): Datafrem containing as columns the feature\n",
    "        selection methods and as values ranks to each feature in the same order.\n",
    "\n",
    "    Returns:\n",
    "        W: Kendall's W coefficient\n",
    "    '''\n",
    "    # Sum of each item ranks\n",
    "    sums = data_kendall.sum(axis=1, numeric_only=True).to_numpy()\n",
    "    # Mean of ranking sums\n",
    "    Rbar = sums.mean()\n",
    "    Rbar\n",
    "    # Sum of squared deviations from the mean\n",
    "    S = np.sum([(np.array(sums)[x] - Rbar) ** 2 for x in range(n)])\n",
    "\n",
    "    W = (12 * S) / (k ** 2 * (n ** 3 - n))\n",
    "\n",
    "    return W\n",
    "\n",
    "print(calculate_kendallW(data_kendall))"
   ]
  },
  {
   "attachments": {},
   "cell_type": "markdown",
   "metadata": {},
   "source": [
    "## Top–k overlap"
   ]
  },
  {
   "cell_type": "code",
   "execution_count": 183,
   "metadata": {},
   "outputs": [],
   "source": [
    "def calculate_topkoverlap(datatopk, k=5):\n",
    "    return None"
   ]
  }
 ],
 "metadata": {
  "kernelspec": {
   "display_name": "venv",
   "language": "python",
   "name": "python3"
  },
  "language_info": {
   "codemirror_mode": {
    "name": "ipython",
    "version": 3
   },
   "file_extension": ".py",
   "mimetype": "text/x-python",
   "name": "python",
   "nbconvert_exporter": "python",
   "pygments_lexer": "ipython3",
   "version": "3.10.6"
  },
  "orig_nbformat": 4,
  "vscode": {
   "interpreter": {
    "hash": "f32660438fc59d2700eb141444e309afef4ae66632a8cd2414f796115374bfa4"
   }
  }
 },
 "nbformat": 4,
 "nbformat_minor": 2
}
