{
 "cells": [
  {
   "attachments": {},
   "cell_type": "markdown",
   "metadata": {},
   "source": [
    "# Evaluation Metrics"
   ]
  },
  {
   "cell_type": "code",
   "execution_count": 13,
   "metadata": {},
   "outputs": [],
   "source": [
    "import pandas as pd\n",
    "import numpy as np\n",
    "import copy\n",
    "import os\n",
    "from scipy.stats import friedmanchisquare\n",
    "from scipy.stats import chi2\n",
    "\n",
    "# change to your local path to project below\n",
    "project_path = '/home/jorge/Insync/jorgitoje@gmail.com/OneDrive/Documentos/JORGE/EDUCATION/MASTER_DATASCIENCE/Semester1/AdvancedStatistics/GroupProject/KDS_Statistics_GroupProject'\n",
    "# change to dataset name you want to analyze\n",
    "dataset_name = 'USAhouseprices2014' # check \"features_ranks.csv\" \"dataset\" column for unique values"
   ]
  },
  {
   "cell_type": "code",
   "execution_count": 2,
   "metadata": {},
   "outputs": [
    {
     "data": {
      "text/html": [
       "<div>\n",
       "<style scoped>\n",
       "    .dataframe tbody tr th:only-of-type {\n",
       "        vertical-align: middle;\n",
       "    }\n",
       "\n",
       "    .dataframe tbody tr th {\n",
       "        vertical-align: top;\n",
       "    }\n",
       "\n",
       "    .dataframe thead th {\n",
       "        text-align: right;\n",
       "    }\n",
       "</style>\n",
       "<table border=\"1\" class=\"dataframe\">\n",
       "  <thead>\n",
       "    <tr style=\"text-align: right;\">\n",
       "      <th></th>\n",
       "      <th>dataset</th>\n",
       "      <th>feature_name</th>\n",
       "      <th>method</th>\n",
       "      <th>feature_rank</th>\n",
       "    </tr>\n",
       "  </thead>\n",
       "  <tbody>\n",
       "    <tr>\n",
       "      <th>0</th>\n",
       "      <td>USAhouseprices2014</td>\n",
       "      <td>date</td>\n",
       "      <td>linear_regression</td>\n",
       "      <td>1</td>\n",
       "    </tr>\n",
       "    <tr>\n",
       "      <th>1</th>\n",
       "      <td>USAhouseprices2014</td>\n",
       "      <td>bedrooms</td>\n",
       "      <td>linear_regression</td>\n",
       "      <td>2</td>\n",
       "    </tr>\n",
       "    <tr>\n",
       "      <th>2</th>\n",
       "      <td>USAhouseprices2014</td>\n",
       "      <td>bathrooms</td>\n",
       "      <td>linear_regression</td>\n",
       "      <td>3</td>\n",
       "    </tr>\n",
       "    <tr>\n",
       "      <th>3</th>\n",
       "      <td>USAhouseprices2014</td>\n",
       "      <td>sqft_living</td>\n",
       "      <td>linear_regression</td>\n",
       "      <td>4</td>\n",
       "    </tr>\n",
       "    <tr>\n",
       "      <th>4</th>\n",
       "      <td>USAhouseprices2014</td>\n",
       "      <td>sqft_lot</td>\n",
       "      <td>linear_regression</td>\n",
       "      <td>5</td>\n",
       "    </tr>\n",
       "  </tbody>\n",
       "</table>\n",
       "</div>"
      ],
      "text/plain": [
       "              dataset feature_name             method  feature_rank\n",
       "0  USAhouseprices2014         date  linear_regression             1\n",
       "1  USAhouseprices2014     bedrooms  linear_regression             2\n",
       "2  USAhouseprices2014    bathrooms  linear_regression             3\n",
       "3  USAhouseprices2014  sqft_living  linear_regression             4\n",
       "4  USAhouseprices2014     sqft_lot  linear_regression             5"
      ]
     },
     "execution_count": 2,
     "metadata": {},
     "output_type": "execute_result"
    }
   ],
   "source": [
    "\n",
    "dataset_path = os.path.join(project_path, 'data/features_ranks_FAKE.csv')\n",
    "data_long = pd.read_csv(dataset_path, sep=\";\").query(\"dataset == @dataset_name\")\n",
    "data_long.head()"
   ]
  },
  {
   "cell_type": "code",
   "execution_count": 3,
   "metadata": {},
   "outputs": [
    {
     "data": {
      "text/html": [
       "<div>\n",
       "<style scoped>\n",
       "    .dataframe tbody tr th:only-of-type {\n",
       "        vertical-align: middle;\n",
       "    }\n",
       "\n",
       "    .dataframe tbody tr th {\n",
       "        vertical-align: top;\n",
       "    }\n",
       "\n",
       "    .dataframe thead tr th {\n",
       "        text-align: left;\n",
       "    }\n",
       "</style>\n",
       "<table border=\"1\" class=\"dataframe\">\n",
       "  <thead>\n",
       "    <tr>\n",
       "      <th></th>\n",
       "      <th>dataset</th>\n",
       "      <th>feature_name</th>\n",
       "      <th colspan=\"3\" halign=\"left\">feature_rank</th>\n",
       "    </tr>\n",
       "    <tr>\n",
       "      <th>method</th>\n",
       "      <th></th>\n",
       "      <th></th>\n",
       "      <th>PCA</th>\n",
       "      <th>RandomForest</th>\n",
       "      <th>linear_regression</th>\n",
       "    </tr>\n",
       "  </thead>\n",
       "  <tbody>\n",
       "    <tr>\n",
       "      <th>0</th>\n",
       "      <td>USAhouseprices2014</td>\n",
       "      <td>bathrooms</td>\n",
       "      <td>7</td>\n",
       "      <td>3</td>\n",
       "      <td>3</td>\n",
       "    </tr>\n",
       "    <tr>\n",
       "      <th>1</th>\n",
       "      <td>USAhouseprices2014</td>\n",
       "      <td>bedrooms</td>\n",
       "      <td>2</td>\n",
       "      <td>2</td>\n",
       "      <td>2</td>\n",
       "    </tr>\n",
       "    <tr>\n",
       "      <th>2</th>\n",
       "      <td>USAhouseprices2014</td>\n",
       "      <td>city</td>\n",
       "      <td>15</td>\n",
       "      <td>15</td>\n",
       "      <td>15</td>\n",
       "    </tr>\n",
       "    <tr>\n",
       "      <th>3</th>\n",
       "      <td>USAhouseprices2014</td>\n",
       "      <td>condition</td>\n",
       "      <td>9</td>\n",
       "      <td>9</td>\n",
       "      <td>9</td>\n",
       "    </tr>\n",
       "    <tr>\n",
       "      <th>4</th>\n",
       "      <td>USAhouseprices2014</td>\n",
       "      <td>country</td>\n",
       "      <td>17</td>\n",
       "      <td>17</td>\n",
       "      <td>17</td>\n",
       "    </tr>\n",
       "  </tbody>\n",
       "</table>\n",
       "</div>"
      ],
      "text/plain": [
       "                   dataset feature_name feature_rank               \\\n",
       "method                                           PCA RandomForest   \n",
       "0       USAhouseprices2014    bathrooms            7            3   \n",
       "1       USAhouseprices2014     bedrooms            2            2   \n",
       "2       USAhouseprices2014         city           15           15   \n",
       "3       USAhouseprices2014    condition            9            9   \n",
       "4       USAhouseprices2014      country           17           17   \n",
       "\n",
       "                          \n",
       "method linear_regression  \n",
       "0                      3  \n",
       "1                      2  \n",
       "2                     15  \n",
       "3                      9  \n",
       "4                     17  "
      ]
     },
     "execution_count": 3,
     "metadata": {},
     "output_type": "execute_result"
    }
   ],
   "source": [
    "data_wide = data_long.pivot( index=['dataset', 'feature_name'], columns=['method'], \n",
    "    values=['feature_rank']).reset_index()\n",
    "data_wide.head()"
   ]
  },
  {
   "attachments": {},
   "cell_type": "markdown",
   "metadata": {},
   "source": [
    "## Kendall's W"
   ]
  },
  {
   "cell_type": "code",
   "execution_count": 16,
   "metadata": {},
   "outputs": [],
   "source": [
    "data_kendall = data_wide['feature_rank'].astype(int)"
   ]
  },
  {
   "attachments": {},
   "cell_type": "markdown",
   "metadata": {},
   "source": [
    "### Using friedmanchisquare\n",
    "(DOES NOT seem to work and requires manually putting all columns)"
   ]
  },
  {
   "cell_type": "code",
   "execution_count": 18,
   "metadata": {},
   "outputs": [],
   "source": [
    "\n",
    "# spRes = friedmanchisquare(data_kendall['PCA'].to_numpy(), data_kendall['RandomForest'].to_numpy(), data_kendall['linear_regression'].to_numpy())\n",
    "# spRes = friedmanchisquare(*[data_kendall[column] for column in data_kendall.columns])\n",
    "# friedmanchisquare()\n",
    "# selData()\n",
    "# n = data_kendall.shape[0]\n",
    "# k = data_kendall.shape[1]\n",
    "# Q = spRes[0]\n",
    "# print(f\"n: {n},k: {k}, Q: {Q}\")"
   ]
  },
  {
   "cell_type": "code",
   "execution_count": 19,
   "metadata": {},
   "outputs": [],
   "source": [
    "# W = Q / (n*(k-1))\n",
    "# print(f\"W: {W}\")"
   ]
  },
  {
   "attachments": {},
   "cell_type": "markdown",
   "metadata": {},
   "source": [
    "### Using direct formula"
   ]
  },
  {
   "cell_type": "code",
   "execution_count": 20,
   "metadata": {},
   "outputs": [
    {
     "name": "stdout",
     "output_type": "stream",
     "text": [
      "Kendall's W: 0.9875243664717349\n"
     ]
    }
   ],
   "source": [
    "def calculate_kendallW(data_kendall, tie_correction=False):\n",
    "    '''_summary_\n",
    "\n",
    "    Args:\n",
    "        data_kendall (pd.dataframe): Datafrem containing as columns the feature\n",
    "        selection methods and as values ranks to each feature in the same order.\n",
    "\n",
    "    Returns:\n",
    "        W: Kendall's W coefficient\n",
    "    '''\n",
    "    n = data_kendall.shape[0] # number of features/objects\n",
    "    k = data_kendall.shape[1] # numbe of raters/methods\n",
    "\n",
    "    # Sum of each item ranks\n",
    "    sums = data_kendall.sum(axis=1, numeric_only=True).to_numpy()\n",
    "    # Mean of ranking sums\n",
    "    Rbar = sums.mean()\n",
    "    Rbar\n",
    "    # Sum of squared deviations from the mean\n",
    "    S = np.sum([(np.array(sums)[x] - Rbar) ** 2 for x in range(n)])\n",
    "    if not tie_correction:\n",
    "        W = (12 * S) / (k ** 2 * (n ** 3 - n))\n",
    "    else:\n",
    "        # TO DO: if we have many ties, we'll have to implement this also\n",
    "        return None\n",
    "\n",
    "    return W\n",
    "\n",
    "W = calculate_kendallW(data_kendall)\n",
    "print(f\"Kendall's W: {W}\")"
   ]
  },
  {
   "attachments": {},
   "cell_type": "markdown",
   "metadata": {},
   "source": [
    "### Hypothesis testing for Kendall's W"
   ]
  },
  {
   "cell_type": "code",
   "execution_count": 26,
   "metadata": {},
   "outputs": [
    {
     "name": "stdout",
     "output_type": "stream",
     "text": [
      "Statistic value for alpha=0.05: 53.32631578947368\n",
      "Tabled value for Chi2 for alpha=0.05 and 18 degrees of freedom: 9.390455080688984\n",
      "We reject null hypothesis and conclude that H1: W ≠ 0.\n"
     ]
    }
   ],
   "source": [
    "n = data_kendall.shape[0]\n",
    "k = data_kendall.shape[1]\n",
    "\n",
    "alpha = 0.05\n",
    "degrees_of_freedom = n - 1\n",
    "chisquared_alpha = chi2.ppf(q = alpha, df = degrees_of_freedom)\n",
    "chisquared_statistic = k *(n-1) * W\n",
    "\n",
    "print(f\"Statistic value for alpha={alpha}: {chisquared_statistic}\")\n",
    "print(f\"Tabled value for Chi2 for alpha={alpha} and {degrees_of_freedom} degrees of freedom: {chisquared_alpha}\")\n",
    "\n",
    "if chisquared_statistic >= chisquared_alpha:\n",
    "    print(\"We reject null hypothesis and conclude that H1: W ≠ 0.\")\n",
    "else:\n",
    "    print(\"We cannot reject null hypothesis H0: W = 0\")"
   ]
  },
  {
   "attachments": {},
   "cell_type": "markdown",
   "metadata": {},
   "source": [
    "## Top–k overlap"
   ]
  },
  {
   "cell_type": "code",
   "execution_count": 11,
   "metadata": {},
   "outputs": [
    {
     "name": "stdout",
     "output_type": "stream",
     "text": [
      "Top-k overlap: 0.6666666666666666\n"
     ]
    }
   ],
   "source": [
    "def calculate_topkoverlap(datatopk, k=5):\n",
    "\n",
    "    data_all = datatopk.copy(deep=True)\n",
    "\n",
    "    n = len(data_all)\n",
    "\n",
    "    assert len(data_all) >= k, f\"Maximum value for k is {n}, which is total number of features\"\n",
    "\n",
    "    methods = data_all.columns.to_list()\n",
    "    data_all['feature_id'] = data_all.index\n",
    "\n",
    "    all_toplists = []\n",
    "\n",
    "    for method in methods:\n",
    "        data_temp = data_all.filter(items=['feature_id', method]) \\\n",
    "            .sort_values(method).head(k)['feature_id'].to_list()\n",
    "        all_toplists.append(data_temp)\n",
    "    union_lists= np.unique(all_toplists)\n",
    "    intersection_lists = set.intersection(*map(set, all_toplists))\n",
    "\n",
    "    topk_overlap = len(intersection_lists)/len(union_lists)\n",
    "        \n",
    "    return topk_overlap\n",
    "\n",
    "\n",
    "print(f\"Top-k overlap: {calculate_topkoverlap(data_kendall)}\")"
   ]
  }
 ],
 "metadata": {
  "kernelspec": {
   "display_name": "venv",
   "language": "python",
   "name": "python3"
  },
  "language_info": {
   "codemirror_mode": {
    "name": "ipython",
    "version": 3
   },
   "file_extension": ".py",
   "mimetype": "text/x-python",
   "name": "python",
   "nbconvert_exporter": "python",
   "pygments_lexer": "ipython3",
   "version": "3.10.6 (main, Nov 14 2022, 16:10:14) [GCC 11.3.0]"
  },
  "orig_nbformat": 4,
  "vscode": {
   "interpreter": {
    "hash": "f32660438fc59d2700eb141444e309afef4ae66632a8cd2414f796115374bfa4"
   }
  }
 },
 "nbformat": 4,
 "nbformat_minor": 2
}
