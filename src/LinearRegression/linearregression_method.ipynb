{
 "cells": [
  {
   "cell_type": "markdown",
   "metadata": {},
   "source": [
    "# Linear Regression for feature ranking"
   ]
  },
  {
   "cell_type": "code",
   "execution_count": 1,
   "metadata": {},
   "outputs": [],
   "source": [
    "import pandas as pd\n",
    "import numpy as np\n",
    "from matplotlib import pyplot as plt\n",
    "import seaborn as sns\n",
    "%matplotlib inline\n",
    "from sklearn.linear_model import LinearRegression, Ridge, Lasso\n",
    "from sklearn.preprocessing import MinMaxScaler\n",
    "from sklearn.ensemble import RandomForestRegressor\n",
    "from sklearn.model_selection import train_test_split\n",
    "\n",
    "\n",
    "import os\n",
    "# change to your local path to project below\n",
    "project_path = '/home/jorge/Insync/jorgitoje@gmail.com/OneDrive/Documentos/JORGE/EDUCATION/MASTER_DATASCIENCE/Semester1/AdvancedStatistics/GroupProject/KDS_Statistics_GroupProject'"
   ]
  },
  {
   "cell_type": "code",
   "execution_count": 89,
   "metadata": {},
   "outputs": [],
   "source": [
    "dataset_basepath = os.path.join(project_path, 'datasets')\n",
    "datasets = {\n",
    "    'USA_houseprices_2014':['USA_houseprices_2014/preprocessed_data_USAhouseprices2014.csv','price'],\n",
    "    'Bike_sharing': ['Bike Sharing/preprocessed_hour.csv','cnt'], \n",
    "    'Airbnb_price': ['Airbnb_price/data_Airbnb_preprocessed.csv','log_price'], \n",
    "    'austin_housing': ['austin_housing/processed_austin_housing.csv','latestPrice'] , \n",
    "    'cars': ['cars/New_cars_preprocessed.csv','MSRP']\n",
    "}\n",
    "\n",
    "for dataset_name, dataset_metadata in datasets.items():\n",
    "    \n",
    "    data = pd.read_csv(os.path.join(dataset_basepath, dataset_metadata[0]))\n",
    "    dataset_metadata.append(data)\n"
   ]
  },
  {
   "cell_type": "code",
   "execution_count": 90,
   "metadata": {},
   "outputs": [],
   "source": [
    "# Create our function which stores the feature rankings to the ranks dictionary\n",
    "def ranking(ranks, names, order=1):\n",
    "    minmax = MinMaxScaler()\n",
    "    ranks = minmax.fit_transform(order*np.array([ranks]).T).T[0]\n",
    "    ranks = map(lambda x: round(x,2), ranks)\n",
    "    return dict(zip(names, ranks))\n",
    "\n",
    "#A helper method for pretty-printing linear models\n",
    "def pretty_print_linear(coefs, names = None, sort = False):\n",
    "    if names == None:\n",
    "        names = [\"X%s\" % x for x in range(len(coefs))]\n",
    "    lst = zip(coefs, names)\n",
    "    if sort:\n",
    "        lst = sorted(lst,  key = lambda x:-np.abs(x[0]))\n",
    "    return \" + \".join(\"%s * %s\" % (round(coef, 3), name)\n",
    "                                   for coef, name in lst)"
   ]
  },
  {
   "cell_type": "markdown",
   "metadata": {},
   "source": [
    "## Fitting of models + Rank creation for all datasets"
   ]
  },
  {
   "cell_type": "code",
   "execution_count": 92,
   "metadata": {},
   "outputs": [],
   "source": [
    "all_ranks_all_datasets = pd.DataFrame()\n",
    "\n",
    "for dataset_name, dataset_metadata in datasets.items():\n",
    "\n",
    "    data = dataset_metadata[2]\n",
    "    # MODEL FITTING ------------------------------------------------------------\n",
    "    X = data.copy(deep=True)\n",
    "    y = X.pop(dataset_metadata[1])\n",
    "    features_names = X.columns\n",
    "\n",
    "    # Define dictionary to store our rankings\n",
    "    ranks = {}\n",
    "\n",
    "    lr = LinearRegression()\n",
    "    lr.fit(X,y)\n",
    "    ranks[\"Linear_regression\"] = ranking(np.abs(lr.coef_), features_names)\n",
    "    # print (\"Linear model:\", pretty_print_linear(lr.coef_))\n",
    "\n",
    "    # Using Ridge \n",
    "    ridge = Ridge(alpha = 7)\n",
    "    ridge.fit(X,y)\n",
    "    ranks['Ridge_regression'] = ranking(np.abs(ridge.coef_), features_names)\n",
    "    # print (\"Ridge model:\", pretty_print_linear(ridge.coef_))\n",
    "\n",
    "    # Using Lasso\n",
    "    lasso = Lasso(alpha=.005)\n",
    "    lasso.fit(X,y)\n",
    "    ranks[\"Lasso_regression\"] = ranking(np.abs(lasso.coef_), features_names)\n",
    "    # print (\"Lasso model:\", pretty_print_linear(lasso.coef_))\n",
    "\n",
    "    methods_names = [ key for key in ranks.keys()]\n",
    "\n",
    "    # RANK CALCULATION --------------------------------------------------------\n",
    "    \n",
    "    decimalrank_df = pd.DataFrame()\n",
    "\n",
    "    # Join preranks in dataframe\n",
    "    for method_name, rank_list in ranks.items():\n",
    "        df_Temp = pd.DataFrame(data = {method_name:pd.Series(rank_list)})\n",
    "        decimalrank_df = pd.concat([decimalrank_df,df_Temp ], axis=1)\n",
    "\n",
    "    rank_df = pd.DataFrame()\n",
    "    # Create new integer ranks\n",
    "    for method_name, rank_list in ranks.items():\n",
    "        rank_df[method_name] = decimalrank_df[method_name].rank(ascending=False)\n",
    "\n",
    "    rank_df['feature_name'] = rank_df.index\n",
    "    dataset_metadata.append(rank_df)\n",
    "\n",
    "    ranksout = rank_df.melt(id_vars = 'feature_name', var_name='method', value_name='feature_rank')\n",
    "    ranksout['dataset'] = dataset_name\n",
    "    ranksout = ranksout[ranksout['method'].isin(methods_names)]\n",
    "\n",
    "    all_ranks_all_datasets = pd.concat([all_ranks_all_datasets, ranksout], axis=0)\n"
   ]
  },
  {
   "cell_type": "markdown",
   "metadata": {},
   "source": [
    "## Saving ranks "
   ]
  },
  {
   "cell_type": "code",
   "execution_count": 93,
   "metadata": {},
   "outputs": [],
   "source": [
    "all_ranks_all_datasets.to_csv(os.path.join(project_path, 'data', 'featureranks_linear.csv'), sep=\";\", index=False)"
   ]
  }
 ],
 "metadata": {
  "kernelspec": {
   "display_name": "Python 3 (ipykernel)",
   "language": "python",
   "name": "python3"
  },
  "language_info": {
   "codemirror_mode": {
    "name": "ipython",
    "version": 3
   },
   "file_extension": ".py",
   "mimetype": "text/x-python",
   "name": "python",
   "nbconvert_exporter": "python",
   "pygments_lexer": "ipython3",
   "version": "3.9.12"
  },
  "vscode": {
   "interpreter": {
    "hash": "f32660438fc59d2700eb141444e309afef4ae66632a8cd2414f796115374bfa4"
   }
  }
 },
 "nbformat": 4,
 "nbformat_minor": 2
}
