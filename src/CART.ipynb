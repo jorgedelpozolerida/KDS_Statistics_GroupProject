{
 "cells": [
  {
   "cell_type": "markdown",
   "id": "01967560",
   "metadata": {},
   "source": [
    "# CART Regression Feature Importance"
   ]
  },
  {
   "cell_type": "markdown",
   "id": "fd2a0a10",
   "metadata": {},
   "source": [
    "## Imports"
   ]
  },
  {
   "cell_type": "code",
   "execution_count": 1,
   "id": "8ddedb19",
   "metadata": {},
   "outputs": [],
   "source": [
    "import os\n",
    "\n",
    "import pandas as pd\n",
    "import numpy as np\n",
    "\n",
    "from sklearn.datasets import make_regression\n",
    "from sklearn.tree import DecisionTreeRegressor\n",
    "from sklearn.linear_model import LinearRegression, Ridge, Lasso\n",
    "from sklearn.ensemble import RandomForestRegressor\n",
    "\n",
    "import matplotlib.pyplot as plt\n",
    "import seaborn as sns\n",
    "\n",
    "from sklearn.preprocessing import MinMaxScaler"
   ]
  },
  {
   "cell_type": "markdown",
   "id": "1ec1b29c",
   "metadata": {},
   "source": [
    "## Functions"
   ]
  },
  {
   "cell_type": "code",
   "execution_count": 2,
   "id": "9e20701f",
   "metadata": {},
   "outputs": [],
   "source": [
    "ranks = {}\n",
    "def ranking(ranks, names, order=1):\n",
    "    minmax = MinMaxScaler()\n",
    "    ranks = minmax.fit_transform(order*np.array([ranks]).T).T[0]\n",
    "    ranks = map(lambda x: round(x,2), ranks)\n",
    "    return dict(zip(names, ranks))"
   ]
  },
  {
   "cell_type": "markdown",
   "id": "efd8d2ee",
   "metadata": {},
   "source": [
    "## Open File"
   ]
  },
  {
   "cell_type": "code",
   "execution_count": 3,
   "id": "2fdae9f4",
   "metadata": {},
   "outputs": [],
   "source": [
    "datasetname_out = 'USA_houseprices_2014'"
   ]
  },
  {
   "cell_type": "code",
   "execution_count": 4,
   "id": "25645f79",
   "metadata": {},
   "outputs": [
    {
     "data": {
      "text/html": [
       "<div>\n",
       "<style scoped>\n",
       "    .dataframe tbody tr th:only-of-type {\n",
       "        vertical-align: middle;\n",
       "    }\n",
       "\n",
       "    .dataframe tbody tr th {\n",
       "        vertical-align: top;\n",
       "    }\n",
       "\n",
       "    .dataframe thead th {\n",
       "        text-align: right;\n",
       "    }\n",
       "</style>\n",
       "<table border=\"1\" class=\"dataframe\">\n",
       "  <thead>\n",
       "    <tr style=\"text-align: right;\">\n",
       "      <th></th>\n",
       "      <th>bedrooms</th>\n",
       "      <th>bathrooms</th>\n",
       "      <th>sqft_living</th>\n",
       "      <th>sqft_lot</th>\n",
       "      <th>floors</th>\n",
       "      <th>waterfront</th>\n",
       "      <th>view</th>\n",
       "      <th>condition</th>\n",
       "      <th>sqft_above</th>\n",
       "      <th>sqft_basement</th>\n",
       "      <th>yr_built</th>\n",
       "      <th>yr_renovated</th>\n",
       "      <th>street</th>\n",
       "      <th>city</th>\n",
       "      <th>statezip</th>\n",
       "      <th>country</th>\n",
       "      <th>last_modification</th>\n",
       "      <th>have_basement</th>\n",
       "      <th>price</th>\n",
       "    </tr>\n",
       "  </thead>\n",
       "  <tbody>\n",
       "    <tr>\n",
       "      <th>0</th>\n",
       "      <td>0.333333</td>\n",
       "      <td>0.18750</td>\n",
       "      <td>0.073652</td>\n",
       "      <td>0.006775</td>\n",
       "      <td>0.2</td>\n",
       "      <td>0.0</td>\n",
       "      <td>0.0</td>\n",
       "      <td>0.50</td>\n",
       "      <td>0.107301</td>\n",
       "      <td>0.000000</td>\n",
       "      <td>0.482456</td>\n",
       "      <td>0.995531</td>\n",
       "      <td>0.336428</td>\n",
       "      <td>0.837209</td>\n",
       "      <td>0.815789</td>\n",
       "      <td>0.0</td>\n",
       "      <td>0.921053</td>\n",
       "      <td>False</td>\n",
       "      <td>313000.0</td>\n",
       "    </tr>\n",
       "    <tr>\n",
       "      <th>1</th>\n",
       "      <td>0.555556</td>\n",
       "      <td>0.31250</td>\n",
       "      <td>0.249051</td>\n",
       "      <td>0.007835</td>\n",
       "      <td>0.4</td>\n",
       "      <td>0.0</td>\n",
       "      <td>1.0</td>\n",
       "      <td>1.00</td>\n",
       "      <td>0.331858</td>\n",
       "      <td>0.058091</td>\n",
       "      <td>0.184211</td>\n",
       "      <td>0.000000</td>\n",
       "      <td>0.861848</td>\n",
       "      <td>0.813953</td>\n",
       "      <td>0.763158</td>\n",
       "      <td>0.0</td>\n",
       "      <td>0.184211</td>\n",
       "      <td>True</td>\n",
       "      <td>2384000.0</td>\n",
       "    </tr>\n",
       "    <tr>\n",
       "      <th>2</th>\n",
       "      <td>0.333333</td>\n",
       "      <td>0.25000</td>\n",
       "      <td>0.118451</td>\n",
       "      <td>0.010534</td>\n",
       "      <td>0.0</td>\n",
       "      <td>0.0</td>\n",
       "      <td>0.0</td>\n",
       "      <td>0.75</td>\n",
       "      <td>0.172566</td>\n",
       "      <td>0.000000</td>\n",
       "      <td>0.578947</td>\n",
       "      <td>0.000000</td>\n",
       "      <td>0.506410</td>\n",
       "      <td>0.418605</td>\n",
       "      <td>0.342105</td>\n",
       "      <td>0.0</td>\n",
       "      <td>0.578947</td>\n",
       "      <td>False</td>\n",
       "      <td>342000.0</td>\n",
       "    </tr>\n",
       "    <tr>\n",
       "      <th>3</th>\n",
       "      <td>0.333333</td>\n",
       "      <td>0.28125</td>\n",
       "      <td>0.123766</td>\n",
       "      <td>0.006885</td>\n",
       "      <td>0.0</td>\n",
       "      <td>0.0</td>\n",
       "      <td>0.0</td>\n",
       "      <td>0.75</td>\n",
       "      <td>0.069690</td>\n",
       "      <td>0.207469</td>\n",
       "      <td>0.552632</td>\n",
       "      <td>0.000000</td>\n",
       "      <td>0.942308</td>\n",
       "      <td>0.069767</td>\n",
       "      <td>0.092105</td>\n",
       "      <td>0.0</td>\n",
       "      <td>0.552632</td>\n",
       "      <td>True</td>\n",
       "      <td>420000.0</td>\n",
       "    </tr>\n",
       "    <tr>\n",
       "      <th>4</th>\n",
       "      <td>0.444444</td>\n",
       "      <td>0.31250</td>\n",
       "      <td>0.119210</td>\n",
       "      <td>0.009186</td>\n",
       "      <td>0.0</td>\n",
       "      <td>0.0</td>\n",
       "      <td>0.0</td>\n",
       "      <td>0.75</td>\n",
       "      <td>0.085177</td>\n",
       "      <td>0.165975</td>\n",
       "      <td>0.666667</td>\n",
       "      <td>0.989076</td>\n",
       "      <td>0.961981</td>\n",
       "      <td>0.720930</td>\n",
       "      <td>0.407895</td>\n",
       "      <td>0.0</td>\n",
       "      <td>0.807018</td>\n",
       "      <td>True</td>\n",
       "      <td>550000.0</td>\n",
       "    </tr>\n",
       "  </tbody>\n",
       "</table>\n",
       "</div>"
      ],
      "text/plain": [
       "   bedrooms  bathrooms  sqft_living  sqft_lot  floors  waterfront  view  \\\n",
       "0  0.333333    0.18750     0.073652  0.006775     0.2         0.0   0.0   \n",
       "1  0.555556    0.31250     0.249051  0.007835     0.4         0.0   1.0   \n",
       "2  0.333333    0.25000     0.118451  0.010534     0.0         0.0   0.0   \n",
       "3  0.333333    0.28125     0.123766  0.006885     0.0         0.0   0.0   \n",
       "4  0.444444    0.31250     0.119210  0.009186     0.0         0.0   0.0   \n",
       "\n",
       "   condition  sqft_above  sqft_basement  yr_built  yr_renovated    street  \\\n",
       "0       0.50    0.107301       0.000000  0.482456      0.995531  0.336428   \n",
       "1       1.00    0.331858       0.058091  0.184211      0.000000  0.861848   \n",
       "2       0.75    0.172566       0.000000  0.578947      0.000000  0.506410   \n",
       "3       0.75    0.069690       0.207469  0.552632      0.000000  0.942308   \n",
       "4       0.75    0.085177       0.165975  0.666667      0.989076  0.961981   \n",
       "\n",
       "       city  statezip  country  last_modification  have_basement      price  \n",
       "0  0.837209  0.815789      0.0           0.921053          False   313000.0  \n",
       "1  0.813953  0.763158      0.0           0.184211           True  2384000.0  \n",
       "2  0.418605  0.342105      0.0           0.578947          False   342000.0  \n",
       "3  0.069767  0.092105      0.0           0.552632           True   420000.0  \n",
       "4  0.720930  0.407895      0.0           0.807018           True   550000.0  "
      ]
     },
     "execution_count": 4,
     "metadata": {},
     "output_type": "execute_result"
    }
   ],
   "source": [
    "df = pd.read_csv(\"../datasets/USA_houseprices_2014/USA-HOUSEPRICES-2014-NORMALIZED.csv\")\n",
    "df.head()"
   ]
  },
  {
   "cell_type": "code",
   "execution_count": 5,
   "id": "33ce5824",
   "metadata": {},
   "outputs": [],
   "source": [
    "X = df.copy()\n",
    "y = X.pop(\"price\")\n",
    "colnames = X.columns"
   ]
  },
  {
   "cell_type": "markdown",
   "id": "b4e57f88",
   "metadata": {},
   "source": [
    "## CART"
   ]
  },
  {
   "cell_type": "code",
   "execution_count": 6,
   "id": "c93436fe",
   "metadata": {},
   "outputs": [
    {
     "data": {
      "text/plain": [
       "DecisionTreeRegressor()"
      ]
     },
     "execution_count": 6,
     "metadata": {},
     "output_type": "execute_result"
    }
   ],
   "source": [
    "model = DecisionTreeRegressor()\n",
    "model.fit(X, y)"
   ]
  },
  {
   "cell_type": "code",
   "execution_count": 7,
   "id": "2d65323c",
   "metadata": {},
   "outputs": [
    {
     "name": "stdout",
     "output_type": "stream",
     "text": [
      "Feature: 0, Score: 0.00355\n",
      "Feature: 1, Score: 0.01375\n",
      "Feature: 2, Score: 0.22847\n",
      "Feature: 3, Score: 0.06409\n",
      "Feature: 4, Score: 0.00361\n",
      "Feature: 5, Score: 0.01666\n",
      "Feature: 6, Score: 0.01130\n",
      "Feature: 7, Score: 0.00228\n",
      "Feature: 8, Score: 0.01366\n",
      "Feature: 9, Score: 0.00448\n",
      "Feature: 10, Score: 0.02107\n",
      "Feature: 11, Score: 0.00459\n",
      "Feature: 12, Score: 0.48330\n",
      "Feature: 13, Score: 0.02249\n",
      "Feature: 14, Score: 0.04519\n",
      "Feature: 15, Score: 0.00000\n",
      "Feature: 16, Score: 0.06090\n",
      "Feature: 17, Score: 0.00062\n"
     ]
    },
    {
     "data": {
      "image/png": "[encoded data removed]",
      "text/plain": [
       "<Figure size 432x288 with 1 Axes>"
      ]
     },
     "metadata": {
      "needs_background": "light"
     },
     "output_type": "display_data"
    }
   ],
   "source": [
    "importance = model.feature_importances_\n",
    "# summarize feature importance\n",
    "for i,v in enumerate(importance):\n",
    "    print('Feature: %0d, Score: %.5f' % (i,v))\n",
    "    \n",
    "# plot feature importance\n",
    "plt.bar([x for x in range(len(importance))], importance)\n",
    "plt.show()"
   ]
  },
  {
   "cell_type": "code",
   "execution_count": 8,
   "id": "e256f169",
   "metadata": {},
   "outputs": [],
   "source": [
    "cart = DecisionTreeRegressor()\n",
    "cart.fit(X,y)\n",
    "ranks[\"CART\"] = ranking(cart.feature_importances_, colnames);"
   ]
  },
  {
   "cell_type": "code",
   "execution_count": 9,
   "id": "a55507d8",
   "metadata": {},
   "outputs": [
    {
     "data": {
      "text/plain": [
       "{'CART': {'bedrooms': 0.01,\n",
       "  'bathrooms': 0.03,\n",
       "  'sqft_living': 0.47,\n",
       "  'sqft_lot': 0.13,\n",
       "  'floors': 0.01,\n",
       "  'waterfront': 0.03,\n",
       "  'view': 0.02,\n",
       "  'condition': 0.01,\n",
       "  'sqft_above': 0.03,\n",
       "  'sqft_basement': 0.01,\n",
       "  'yr_built': 0.04,\n",
       "  'yr_renovated': 0.12,\n",
       "  'street': 1.0,\n",
       "  'city': 0.04,\n",
       "  'statezip': 0.1,\n",
       "  'country': 0.0,\n",
       "  'last_modification': 0.02,\n",
       "  'have_basement': 0.0}}"
      ]
     },
     "execution_count": 9,
     "metadata": {},
     "output_type": "execute_result"
    }
   ],
   "source": [
    "ranks"
   ]
  },
  {
   "cell_type": "markdown",
   "id": "112963a0",
   "metadata": {},
   "source": [
    "## Linear, ridge and Lasso"
   ]
  },
  {
   "cell_type": "code",
   "execution_count": 10,
   "id": "dbe039b9",
   "metadata": {},
   "outputs": [
    {
     "name": "stderr",
     "output_type": "stream",
     "text": [
      "C:\\ProgramData\\Anaconda3\\lib\\site-packages\\sklearn\\linear_model\\_coordinate_descent.py:647: ConvergenceWarning: Objective did not converge. You might want to increase the number of iterations, check the scale of the features or consider increasing regularisation. Duality gap: 2.934e+13, tolerance: 1.462e+11\n",
      "  model = cd_fast.enet_coordinate_descent(\n"
     ]
    }
   ],
   "source": [
    "lr = LinearRegression()\n",
    "lr.fit(X,y)\n",
    "ranks[\"Linear_regression\"] = ranking(np.abs(lr.coef_), colnames)\n",
    "#print (\"Linear model:\", pretty_print_linear(lr.coef_))\n",
    "\n",
    "# Using Ridge \n",
    "ridge = Ridge(alpha = 7)\n",
    "ridge.fit(X,y)\n",
    "ranks['Ridge_regression'] = ranking(np.abs(ridge.coef_), colnames)\n",
    "#print (\"Ridge model:\", pretty_print_linear(ridge.coef_))\n",
    "\n",
    "# Using Lasso\n",
    "lasso = Lasso(alpha=.005)\n",
    "lasso.fit(X,y)\n",
    "ranks[\"Lasso_regression\"] = ranking(np.abs(lasso.coef_), colnames)\n",
    "#print (\"Lasso model:\", pretty_print_linear(lasso.coef_))\n",
    "\n",
    "methods_names = [ key for key in ranks.keys()]"
   ]
  },
  {
   "cell_type": "markdown",
   "id": "cdd023f0",
   "metadata": {},
   "source": [
    "## Random Forest"
   ]
  },
  {
   "cell_type": "code",
   "execution_count": 11,
   "id": "cd04f4ab",
   "metadata": {},
   "outputs": [
    {
     "name": "stderr",
     "output_type": "stream",
     "text": [
      "[Parallel(n_jobs=-1)]: Using backend ThreadingBackend with 4 concurrent workers.\n"
     ]
    },
    {
     "name": "stdout",
     "output_type": "stream",
     "text": [
      "building tree 1 of 50building tree 2 of 50\n",
      "\n",
      "building tree 3 of 50\n",
      "building tree 4 of 50\n",
      "building tree 5 of 50building tree 6 of 50\n",
      "\n",
      "building tree 7 of 50\n",
      "building tree 8 of 50\n",
      "building tree 9 of 50\n",
      "building tree 10 of 50\n",
      "building tree 11 of 50\n",
      "building tree 12 of 50\n",
      "building tree 13 of 50\n",
      "building tree 14 of 50\n",
      "building tree 15 of 50\n",
      "building tree 16 of 50\n",
      "building tree 17 of 50\n",
      "building tree 18 of 50\n",
      "building tree 19 of 50\n",
      "building tree 20 of 50\n",
      "building tree 21 of 50\n",
      "building tree 22 of 50\n",
      "building tree 23 of 50\n",
      "building tree 24 of 50\n",
      "building tree 25 of 50\n",
      "building tree 26 of 50\n",
      "building tree 27 of 50\n",
      "building tree 28 of 50\n",
      "building tree 29 of 50\n",
      "building tree 30 of 50\n",
      "building tree 31 of 50\n",
      "building tree 32 of 50\n",
      "building tree 33 of 50\n",
      "building tree 34 of 50\n",
      "building tree 35 of 50\n",
      "building tree 36 of 50\n",
      "building tree 37 of 50\n",
      "building tree 38 of 50\n",
      "building tree 39 of 50\n",
      "building tree 40 of 50\n",
      "building tree 41 of 50\n",
      "building tree 42 of 50\n",
      "building tree 43 of 50\n",
      "building tree 44 of 50"
     ]
    },
    {
     "name": "stderr",
     "output_type": "stream",
     "text": [
      "[Parallel(n_jobs=-1)]: Done  24 tasks      | elapsed:    0.3s\n"
     ]
    },
    {
     "name": "stdout",
     "output_type": "stream",
     "text": [
      "\n",
      "building tree 45 of 50\n",
      "building tree 46 of 50\n",
      "building tree 47 of 50\n",
      "building tree 48 of 50\n",
      "building tree 49 of 50\n",
      "building tree 50 of 50\n"
     ]
    },
    {
     "name": "stderr",
     "output_type": "stream",
     "text": [
      "[Parallel(n_jobs=-1)]: Done  50 out of  50 | elapsed:    0.6s finished\n"
     ]
    }
   ],
   "source": [
    "rf = RandomForestRegressor(n_jobs=-1, n_estimators=50, verbose=3)\n",
    "rf.fit(X, y)\n",
    "ranks[\"RF_simple\"] = ranking(rf.feature_importances_, colnames);"
   ]
  },
  {
   "cell_type": "markdown",
   "id": "cd01634c",
   "metadata": {},
   "source": [
    "## Combine the ranks"
   ]
  },
  {
   "cell_type": "code",
   "execution_count": 12,
   "id": "9c0d6d9b",
   "metadata": {},
   "outputs": [
    {
     "data": {
      "text/html": [
       "<div>\n",
       "<style scoped>\n",
       "    .dataframe tbody tr th:only-of-type {\n",
       "        vertical-align: middle;\n",
       "    }\n",
       "\n",
       "    .dataframe tbody tr th {\n",
       "        vertical-align: top;\n",
       "    }\n",
       "\n",
       "    .dataframe thead th {\n",
       "        text-align: right;\n",
       "    }\n",
       "</style>\n",
       "<table border=\"1\" class=\"dataframe\">\n",
       "  <thead>\n",
       "    <tr style=\"text-align: right;\">\n",
       "      <th></th>\n",
       "      <th>CART</th>\n",
       "      <th>Linear_regression</th>\n",
       "      <th>Ridge_regression</th>\n",
       "      <th>Lasso_regression</th>\n",
       "      <th>RF_simple</th>\n",
       "      <th>feature_name</th>\n",
       "    </tr>\n",
       "  </thead>\n",
       "  <tbody>\n",
       "    <tr>\n",
       "      <th>bedrooms</th>\n",
       "      <td>14.5</td>\n",
       "      <td>5.0</td>\n",
       "      <td>8.0</td>\n",
       "      <td>3.0</td>\n",
       "      <td>14.5</td>\n",
       "      <td>bedrooms</td>\n",
       "    </tr>\n",
       "    <tr>\n",
       "      <th>bathrooms</th>\n",
       "      <td>9.0</td>\n",
       "      <td>6.0</td>\n",
       "      <td>3.0</td>\n",
       "      <td>4.0</td>\n",
       "      <td>12.5</td>\n",
       "      <td>bathrooms</td>\n",
       "    </tr>\n",
       "    <tr>\n",
       "      <th>sqft_living</th>\n",
       "      <td>2.0</td>\n",
       "      <td>2.0</td>\n",
       "      <td>2.0</td>\n",
       "      <td>1.0</td>\n",
       "      <td>2.0</td>\n",
       "      <td>sqft_living</td>\n",
       "    </tr>\n",
       "    <tr>\n",
       "      <th>sqft_lot</th>\n",
       "      <td>3.0</td>\n",
       "      <td>3.0</td>\n",
       "      <td>9.0</td>\n",
       "      <td>2.0</td>\n",
       "      <td>4.0</td>\n",
       "      <td>sqft_lot</td>\n",
       "    </tr>\n",
       "    <tr>\n",
       "      <th>floors</th>\n",
       "      <td>14.5</td>\n",
       "      <td>13.0</td>\n",
       "      <td>12.5</td>\n",
       "      <td>12.5</td>\n",
       "      <td>10.5</td>\n",
       "      <td>floors</td>\n",
       "    </tr>\n",
       "    <tr>\n",
       "      <th>waterfront</th>\n",
       "      <td>9.0</td>\n",
       "      <td>7.0</td>\n",
       "      <td>5.0</td>\n",
       "      <td>5.0</td>\n",
       "      <td>16.0</td>\n",
       "      <td>waterfront</td>\n",
       "    </tr>\n",
       "    <tr>\n",
       "      <th>view</th>\n",
       "      <td>11.5</td>\n",
       "      <td>9.0</td>\n",
       "      <td>7.0</td>\n",
       "      <td>8.0</td>\n",
       "      <td>10.5</td>\n",
       "      <td>view</td>\n",
       "    </tr>\n",
       "    <tr>\n",
       "      <th>condition</th>\n",
       "      <td>14.5</td>\n",
       "      <td>10.0</td>\n",
       "      <td>10.5</td>\n",
       "      <td>9.5</td>\n",
       "      <td>14.5</td>\n",
       "      <td>condition</td>\n",
       "    </tr>\n",
       "    <tr>\n",
       "      <th>sqft_above</th>\n",
       "      <td>9.0</td>\n",
       "      <td>1.0</td>\n",
       "      <td>1.0</td>\n",
       "      <td>14.5</td>\n",
       "      <td>6.0</td>\n",
       "      <td>sqft_above</td>\n",
       "    </tr>\n",
       "    <tr>\n",
       "      <th>sqft_basement</th>\n",
       "      <td>14.5</td>\n",
       "      <td>4.0</td>\n",
       "      <td>4.0</td>\n",
       "      <td>7.0</td>\n",
       "      <td>9.0</td>\n",
       "      <td>sqft_basement</td>\n",
       "    </tr>\n",
       "    <tr>\n",
       "      <th>yr_built</th>\n",
       "      <td>6.5</td>\n",
       "      <td>8.0</td>\n",
       "      <td>6.0</td>\n",
       "      <td>6.0</td>\n",
       "      <td>5.0</td>\n",
       "      <td>yr_built</td>\n",
       "    </tr>\n",
       "    <tr>\n",
       "      <th>yr_renovated</th>\n",
       "      <td>4.0</td>\n",
       "      <td>17.0</td>\n",
       "      <td>16.0</td>\n",
       "      <td>17.0</td>\n",
       "      <td>12.5</td>\n",
       "      <td>yr_renovated</td>\n",
       "    </tr>\n",
       "    <tr>\n",
       "      <th>street</th>\n",
       "      <td>1.0</td>\n",
       "      <td>17.0</td>\n",
       "      <td>17.5</td>\n",
       "      <td>17.0</td>\n",
       "      <td>1.0</td>\n",
       "      <td>street</td>\n",
       "    </tr>\n",
       "    <tr>\n",
       "      <th>city</th>\n",
       "      <td>6.5</td>\n",
       "      <td>11.0</td>\n",
       "      <td>10.5</td>\n",
       "      <td>9.5</td>\n",
       "      <td>8.0</td>\n",
       "      <td>city</td>\n",
       "    </tr>\n",
       "    <tr>\n",
       "      <th>statezip</th>\n",
       "      <td>5.0</td>\n",
       "      <td>12.0</td>\n",
       "      <td>12.5</td>\n",
       "      <td>11.0</td>\n",
       "      <td>3.0</td>\n",
       "      <td>statezip</td>\n",
       "    </tr>\n",
       "    <tr>\n",
       "      <th>country</th>\n",
       "      <td>17.5</td>\n",
       "      <td>17.0</td>\n",
       "      <td>17.5</td>\n",
       "      <td>17.0</td>\n",
       "      <td>17.5</td>\n",
       "      <td>country</td>\n",
       "    </tr>\n",
       "    <tr>\n",
       "      <th>last_modification</th>\n",
       "      <td>11.5</td>\n",
       "      <td>14.0</td>\n",
       "      <td>14.0</td>\n",
       "      <td>12.5</td>\n",
       "      <td>7.0</td>\n",
       "      <td>last_modification</td>\n",
       "    </tr>\n",
       "    <tr>\n",
       "      <th>have_basement</th>\n",
       "      <td>17.5</td>\n",
       "      <td>15.0</td>\n",
       "      <td>15.0</td>\n",
       "      <td>14.5</td>\n",
       "      <td>17.5</td>\n",
       "      <td>have_basement</td>\n",
       "    </tr>\n",
       "  </tbody>\n",
       "</table>\n",
       "</div>"
      ],
      "text/plain": [
       "                   CART  Linear_regression  Ridge_regression  \\\n",
       "bedrooms           14.5                5.0               8.0   \n",
       "bathrooms           9.0                6.0               3.0   \n",
       "sqft_living         2.0                2.0               2.0   \n",
       "sqft_lot            3.0                3.0               9.0   \n",
       "floors             14.5               13.0              12.5   \n",
       "waterfront          9.0                7.0               5.0   \n",
       "view               11.5                9.0               7.0   \n",
       "condition          14.5               10.0              10.5   \n",
       "sqft_above          9.0                1.0               1.0   \n",
       "sqft_basement      14.5                4.0               4.0   \n",
       "yr_built            6.5                8.0               6.0   \n",
       "yr_renovated        4.0               17.0              16.0   \n",
       "street              1.0               17.0              17.5   \n",
       "city                6.5               11.0              10.5   \n",
       "statezip            5.0               12.0              12.5   \n",
       "country            17.5               17.0              17.5   \n",
       "last_modification  11.5               14.0              14.0   \n",
       "have_basement      17.5               15.0              15.0   \n",
       "\n",
       "                   Lasso_regression  RF_simple       feature_name  \n",
       "bedrooms                        3.0       14.5           bedrooms  \n",
       "bathrooms                       4.0       12.5          bathrooms  \n",
       "sqft_living                     1.0        2.0        sqft_living  \n",
       "sqft_lot                        2.0        4.0           sqft_lot  \n",
       "floors                         12.5       10.5             floors  \n",
       "waterfront                      5.0       16.0         waterfront  \n",
       "view                            8.0       10.5               view  \n",
       "condition                       9.5       14.5          condition  \n",
       "sqft_above                     14.5        6.0         sqft_above  \n",
       "sqft_basement                   7.0        9.0      sqft_basement  \n",
       "yr_built                        6.0        5.0           yr_built  \n",
       "yr_renovated                   17.0       12.5       yr_renovated  \n",
       "street                         17.0        1.0             street  \n",
       "city                            9.5        8.0               city  \n",
       "statezip                       11.0        3.0           statezip  \n",
       "country                        17.0       17.5            country  \n",
       "last_modification              12.5        7.0  last_modification  \n",
       "have_basement                  14.5       17.5      have_basement  "
      ]
     },
     "execution_count": 12,
     "metadata": {},
     "output_type": "execute_result"
    }
   ],
   "source": [
    "decimalrank_df = pd.DataFrame()\n",
    "\n",
    "# Join preranks in dataframe\n",
    "for method_name, rank_list in ranks.items():\n",
    "    df_Temp = pd.DataFrame(data = {method_name:pd.Series(rank_list)})\n",
    "    decimalrank_df = pd.concat([decimalrank_df,df_Temp ], axis=1)\n",
    "\n",
    "rank_df = pd.DataFrame()\n",
    "# Create new integer ranks\n",
    "for method_name, rank_list in ranks.items():\n",
    "    rank_df[method_name] = decimalrank_df[method_name].rank(ascending=False)\n",
    "\n",
    "rank_df['feature_name'] = rank_df.index\n",
    "rank_df"
   ]
  },
  {
   "cell_type": "markdown",
   "id": "eac0f33f",
   "metadata": {},
   "source": [
    "## Write to file"
   ]
  },
  {
   "cell_type": "code",
   "execution_count": 13,
   "id": "3aee7036",
   "metadata": {},
   "outputs": [],
   "source": [
    "# Save results\n",
    "rank_df.to_csv('../data/featureranks_CART.csv', sep=';',index=False)"
   ]
  }
 ],
 "metadata": {
  "kernelspec": {
   "display_name": "Python 3 (ipykernel)",
   "language": "python",
   "name": "python3"
  },
  "language_info": {
   "codemirror_mode": {
    "name": "ipython",
    "version": 3
   },
   "file_extension": ".py",
   "mimetype": "text/x-python",
   "name": "python",
   "nbconvert_exporter": "python",
   "pygments_lexer": "ipython3",
   "version": "3.9.12"
  }
 },
 "nbformat": 4,
 "nbformat_minor": 5
}
