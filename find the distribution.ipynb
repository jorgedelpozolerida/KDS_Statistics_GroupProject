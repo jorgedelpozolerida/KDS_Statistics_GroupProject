{
 "cells": [
  {
   "cell_type": "code",
   "execution_count": 1,
   "id": "ee9701dd",
   "metadata": {},
   "outputs": [],
   "source": [
    "import numpy as np\n",
    "import pandas as pd\n",
    "import seaborn as sns\n",
    "from fitter import Fitter, get_common_distributions, get_distributions"
   ]
  },
  {
   "cell_type": "code",
   "execution_count": 2,
   "id": "55e3c3be",
   "metadata": {},
   "outputs": [],
   "source": [
    "df = pd.read_csv(\"data.csv\")"
   ]
  },
  {
   "cell_type": "code",
   "execution_count": 4,
   "id": "e6f5a71c",
   "metadata": {},
   "outputs": [
    {
     "data": {
      "text/html": [
       "<div>\n",
       "<style scoped>\n",
       "    .dataframe tbody tr th:only-of-type {\n",
       "        vertical-align: middle;\n",
       "    }\n",
       "\n",
       "    .dataframe tbody tr th {\n",
       "        vertical-align: top;\n",
       "    }\n",
       "\n",
       "    .dataframe thead th {\n",
       "        text-align: right;\n",
       "    }\n",
       "</style>\n",
       "<table border=\"1\" class=\"dataframe\">\n",
       "  <thead>\n",
       "    <tr style=\"text-align: right;\">\n",
       "      <th></th>\n",
       "      <th>date</th>\n",
       "      <th>price</th>\n",
       "      <th>bedrooms</th>\n",
       "      <th>bathrooms</th>\n",
       "      <th>sqft_living</th>\n",
       "      <th>sqft_lot</th>\n",
       "      <th>floors</th>\n",
       "      <th>waterfront</th>\n",
       "      <th>view</th>\n",
       "      <th>condition</th>\n",
       "      <th>sqft_above</th>\n",
       "      <th>sqft_basement</th>\n",
       "      <th>yr_built</th>\n",
       "      <th>yr_renovated</th>\n",
       "      <th>street</th>\n",
       "      <th>city</th>\n",
       "      <th>statezip</th>\n",
       "      <th>country</th>\n",
       "    </tr>\n",
       "  </thead>\n",
       "  <tbody>\n",
       "    <tr>\n",
       "      <th>0</th>\n",
       "      <td>2014-05-02 00:00:00</td>\n",
       "      <td>313000.0</td>\n",
       "      <td>3.0</td>\n",
       "      <td>1.50</td>\n",
       "      <td>1340</td>\n",
       "      <td>7912</td>\n",
       "      <td>1.5</td>\n",
       "      <td>0</td>\n",
       "      <td>0</td>\n",
       "      <td>3</td>\n",
       "      <td>1340</td>\n",
       "      <td>0</td>\n",
       "      <td>1955</td>\n",
       "      <td>2005</td>\n",
       "      <td>18810 Densmore Ave N</td>\n",
       "      <td>Shoreline</td>\n",
       "      <td>WA 98133</td>\n",
       "      <td>USA</td>\n",
       "    </tr>\n",
       "    <tr>\n",
       "      <th>1</th>\n",
       "      <td>2014-05-02 00:00:00</td>\n",
       "      <td>2384000.0</td>\n",
       "      <td>5.0</td>\n",
       "      <td>2.50</td>\n",
       "      <td>3650</td>\n",
       "      <td>9050</td>\n",
       "      <td>2.0</td>\n",
       "      <td>0</td>\n",
       "      <td>4</td>\n",
       "      <td>5</td>\n",
       "      <td>3370</td>\n",
       "      <td>280</td>\n",
       "      <td>1921</td>\n",
       "      <td>0</td>\n",
       "      <td>709 W Blaine St</td>\n",
       "      <td>Seattle</td>\n",
       "      <td>WA 98119</td>\n",
       "      <td>USA</td>\n",
       "    </tr>\n",
       "    <tr>\n",
       "      <th>2</th>\n",
       "      <td>2014-05-02 00:00:00</td>\n",
       "      <td>342000.0</td>\n",
       "      <td>3.0</td>\n",
       "      <td>2.00</td>\n",
       "      <td>1930</td>\n",
       "      <td>11947</td>\n",
       "      <td>1.0</td>\n",
       "      <td>0</td>\n",
       "      <td>0</td>\n",
       "      <td>4</td>\n",
       "      <td>1930</td>\n",
       "      <td>0</td>\n",
       "      <td>1966</td>\n",
       "      <td>0</td>\n",
       "      <td>26206-26214 143rd Ave SE</td>\n",
       "      <td>Kent</td>\n",
       "      <td>WA 98042</td>\n",
       "      <td>USA</td>\n",
       "    </tr>\n",
       "    <tr>\n",
       "      <th>3</th>\n",
       "      <td>2014-05-02 00:00:00</td>\n",
       "      <td>420000.0</td>\n",
       "      <td>3.0</td>\n",
       "      <td>2.25</td>\n",
       "      <td>2000</td>\n",
       "      <td>8030</td>\n",
       "      <td>1.0</td>\n",
       "      <td>0</td>\n",
       "      <td>0</td>\n",
       "      <td>4</td>\n",
       "      <td>1000</td>\n",
       "      <td>1000</td>\n",
       "      <td>1963</td>\n",
       "      <td>0</td>\n",
       "      <td>857 170th Pl NE</td>\n",
       "      <td>Bellevue</td>\n",
       "      <td>WA 98008</td>\n",
       "      <td>USA</td>\n",
       "    </tr>\n",
       "    <tr>\n",
       "      <th>4</th>\n",
       "      <td>2014-05-02 00:00:00</td>\n",
       "      <td>550000.0</td>\n",
       "      <td>4.0</td>\n",
       "      <td>2.50</td>\n",
       "      <td>1940</td>\n",
       "      <td>10500</td>\n",
       "      <td>1.0</td>\n",
       "      <td>0</td>\n",
       "      <td>0</td>\n",
       "      <td>4</td>\n",
       "      <td>1140</td>\n",
       "      <td>800</td>\n",
       "      <td>1976</td>\n",
       "      <td>1992</td>\n",
       "      <td>9105 170th Ave NE</td>\n",
       "      <td>Redmond</td>\n",
       "      <td>WA 98052</td>\n",
       "      <td>USA</td>\n",
       "    </tr>\n",
       "  </tbody>\n",
       "</table>\n",
       "</div>"
      ],
      "text/plain": [
       "                  date      price  bedrooms  bathrooms  sqft_living  sqft_lot  \\\n",
       "0  2014-05-02 00:00:00   313000.0       3.0       1.50         1340      7912   \n",
       "1  2014-05-02 00:00:00  2384000.0       5.0       2.50         3650      9050   \n",
       "2  2014-05-02 00:00:00   342000.0       3.0       2.00         1930     11947   \n",
       "3  2014-05-02 00:00:00   420000.0       3.0       2.25         2000      8030   \n",
       "4  2014-05-02 00:00:00   550000.0       4.0       2.50         1940     10500   \n",
       "\n",
       "   floors  waterfront  view  condition  sqft_above  sqft_basement  yr_built  \\\n",
       "0     1.5           0     0          3        1340              0      1955   \n",
       "1     2.0           0     4          5        3370            280      1921   \n",
       "2     1.0           0     0          4        1930              0      1966   \n",
       "3     1.0           0     0          4        1000           1000      1963   \n",
       "4     1.0           0     0          4        1140            800      1976   \n",
       "\n",
       "   yr_renovated                    street       city  statezip country  \n",
       "0          2005      18810 Densmore Ave N  Shoreline  WA 98133     USA  \n",
       "1             0           709 W Blaine St    Seattle  WA 98119     USA  \n",
       "2             0  26206-26214 143rd Ave SE       Kent  WA 98042     USA  \n",
       "3             0           857 170th Pl NE   Bellevue  WA 98008     USA  \n",
       "4          1992         9105 170th Ave NE    Redmond  WA 98052     USA  "
      ]
     },
     "execution_count": 4,
     "metadata": {},
     "output_type": "execute_result"
    }
   ],
   "source": [
    "df.head()"
   ]
  },
  {
   "cell_type": "code",
   "execution_count": 5,
   "id": "5fa9f96d",
   "metadata": {},
   "outputs": [
    {
     "name": "stdout",
     "output_type": "stream",
     "text": [
      "<class 'pandas.core.frame.DataFrame'>\n",
      "RangeIndex: 4600 entries, 0 to 4599\n",
      "Data columns (total 18 columns):\n",
      " #   Column         Non-Null Count  Dtype  \n",
      "---  ------         --------------  -----  \n",
      " 0   date           4600 non-null   object \n",
      " 1   price          4600 non-null   float64\n",
      " 2   bedrooms       4600 non-null   float64\n",
      " 3   bathrooms      4600 non-null   float64\n",
      " 4   sqft_living    4600 non-null   int64  \n",
      " 5   sqft_lot       4600 non-null   int64  \n",
      " 6   floors         4600 non-null   float64\n",
      " 7   waterfront     4600 non-null   int64  \n",
      " 8   view           4600 non-null   int64  \n",
      " 9   condition      4600 non-null   int64  \n",
      " 10  sqft_above     4600 non-null   int64  \n",
      " 11  sqft_basement  4600 non-null   int64  \n",
      " 12  yr_built       4600 non-null   int64  \n",
      " 13  yr_renovated   4600 non-null   int64  \n",
      " 14  street         4600 non-null   object \n",
      " 15  city           4600 non-null   object \n",
      " 16  statezip       4600 non-null   object \n",
      " 17  country        4600 non-null   object \n",
      "dtypes: float64(4), int64(9), object(5)\n",
      "memory usage: 647.0+ KB\n"
     ]
    }
   ],
   "source": [
    "df.info()"
   ]
  },
  {
   "cell_type": "code",
   "execution_count": 6,
   "id": "5ef229d5",
   "metadata": {},
   "outputs": [
    {
     "data": {
      "text/plain": [
       "<seaborn.axisgrid.FacetGrid at 0x2c78111c9d0>"
      ]
     },
     "execution_count": 6,
     "metadata": {},
     "output_type": "execute_result"
    },
    {
     "data": {
      "image/png": "[encoded data removed]",
      "text/plain": [
       "<Figure size 540x360 with 1 Axes>"
      ]
     },
     "metadata": {
      "needs_background": "light"
     },
     "output_type": "display_data"
    }
   ],
   "source": [
    "sns.set_style('white')\n",
    "sns.set_context(\"paper\", font_scale = 2)\n",
    "sns.displot(data=df, x=\"price\", kind=\"hist\", bins = 100, aspect = 1.5)"
   ]
  },
  {
   "cell_type": "code",
   "execution_count": 7,
   "id": "29658720",
   "metadata": {},
   "outputs": [],
   "source": [
    "price = df[\"price\"].values"
   ]
  },
  {
   "cell_type": "code",
   "execution_count": 8,
   "id": "d65c6c10",
   "metadata": {},
   "outputs": [
    {
     "name": "stderr",
     "output_type": "stream",
     "text": [
      "Fitting 106 distributions:  28%|███████████████▎                                      | 30/106 [00:09<00:36,  2.11it/s]C:\\ProgramData\\Anaconda3\\lib\\site-packages\\scipy\\stats\\_continuous_distns.py:3094: IntegrationWarning: The algorithm does not converge.  Roundoff error is detected\n",
      "  in the extrapolation table.  It is assumed that the requested tolerance\n",
      "  cannot be achieved, and that the returned result (if full_output = 1) is \n",
      "  the best which can be obtained.\n",
      "  t1 = integrate.quad(llc, -np.inf, x)[0]\n",
      "C:\\ProgramData\\Anaconda3\\lib\\site-packages\\scipy\\stats\\_continuous_distns.py:3094: IntegrationWarning: The integral is probably divergent, or slowly convergent.\n",
      "  t1 = integrate.quad(llc, -np.inf, x)[0]\n",
      "Fitting 106 distributions:  31%|████████████████▊                                     | 33/106 [00:32<06:42,  5.51s/it]C:\\ProgramData\\Anaconda3\\lib\\site-packages\\scipy\\stats\\_distn_infrastructure.py:1837: IntegrationWarning: The algorithm does not converge.  Roundoff error is detected\n",
      "  in the extrapolation table.  It is assumed that the requested tolerance\n",
      "  cannot be achieved, and that the returned result (if full_output = 1) is \n",
      "  the best which can be obtained.\n",
      "  return integrate.quad(self._pdf, _a, x, args=args)[0]\n",
      "Fitting 106 distributions:  48%|█████████████████████████▉                            | 51/106 [00:40<00:20,  2.65it/s]WARNING:root:SKIPPED kstwo distribution (taking more than 30 seconds)\n",
      "Fitting 106 distributions:  53%|████████████████████████████▌                         | 56/106 [00:41<00:14,  3.39it/s]WARNING:root:SKIPPED kappa4 distribution (taking more than 30 seconds)\n",
      "Fitting 106 distributions:  55%|█████████████████████████████▌                        | 58/106 [01:09<03:43,  4.66s/it]WARNING:root:SKIPPED ksone distribution (taking more than 30 seconds)\n",
      "Fitting 106 distributions:  58%|███████████████████████████████                       | 61/106 [01:10<01:53,  2.53s/it]WARNING:root:SKIPPED levy_stable distribution (taking more than 30 seconds)\n",
      "Fitting 106 distributions:  59%|████████████████████████████████                      | 63/106 [01:23<03:23,  4.73s/it]WARNING:root:SKIPPED loggamma distribution (taking more than 30 seconds)\n",
      "Fitting 106 distributions:  60%|████████████████████████████████▌                     | 64/106 [01:39<05:24,  7.73s/it]WARNING:root:SKIPPED loglaplace distribution (taking more than 30 seconds)\n",
      "Fitting 106 distributions:  61%|█████████████████████████████████                     | 65/106 [01:40<04:01,  5.89s/it]WARNING:root:SKIPPED lognorm distribution (taking more than 30 seconds)\n",
      "Fitting 106 distributions:  66%|███████████████████████████████████▋                  | 70/106 [02:05<03:53,  6.48s/it]WARNING:root:SKIPPED mielke distribution (taking more than 30 seconds)\n",
      "Fitting 106 distributions:  68%|████████████████████████████████████▋                 | 72/106 [02:11<02:28,  4.36s/it]WARNING:root:SKIPPED ncf distribution (taking more than 30 seconds)\n",
      "Fitting 106 distributions:  69%|█████████████████████████████████████▏                | 73/106 [02:19<03:02,  5.54s/it]WARNING:root:SKIPPED nct distribution (taking more than 30 seconds)\n",
      "Fitting 106 distributions:  70%|█████████████████████████████████████▋                | 74/106 [02:22<02:37,  4.92s/it]WARNING:root:SKIPPED ncx2 distribution (taking more than 30 seconds)\n",
      "Fitting 106 distributions:  72%|██████████████████████████████████████▋               | 76/106 [02:37<02:51,  5.72s/it]WARNING:root:SKIPPED norminvgauss distribution (taking more than 30 seconds)\n",
      "Fitting 106 distributions:  73%|███████████████████████████████████████▏              | 77/106 [02:41<02:25,  5.02s/it]C:\\ProgramData\\Anaconda3\\lib\\site-packages\\scipy\\stats\\_distn_infrastructure.py:1826: IntegrationWarning: The algorithm does not converge.  Roundoff error is detected\n",
      "  in the extrapolation table.  It is assumed that the requested tolerance\n",
      "  cannot be achieved, and that the returned result (if full_output = 1) is \n",
      "  the best which can be obtained.\n",
      "  return integrate.quad(self._mom_integ1, 0, 1, args=(m,)+args)[0]\n",
      "C:\\ProgramData\\Anaconda3\\lib\\site-packages\\scipy\\stats\\_distn_infrastructure.py:1826: IntegrationWarning: The integral is probably divergent, or slowly convergent.\n",
      "  return integrate.quad(self._mom_integ1, 0, 1, args=(m,)+args)[0]\n",
      "WARNING:root:SKIPPED pearson3 distribution (taking more than 30 seconds)\n",
      "Fitting 106 distributions:  75%|████████████████████████████████████████▊             | 80/106 [03:03<02:45,  6.38s/it]WARNING:root:SKIPPED powerlognorm distribution (taking more than 30 seconds)\n",
      "Fitting 106 distributions:  76%|█████████████████████████████████████████▎            | 81/106 [03:07<02:28,  5.95s/it]WARNING:root:SKIPPED powernorm distribution (taking more than 30 seconds)\n",
      "Fitting 106 distributions:  78%|██████████████████████████████████████████▎           | 83/106 [03:19<02:19,  6.05s/it]WARNING:root:SKIPPED rv_continuous distribution (taking more than 30 seconds)\n",
      "WARNING:root:SKIPPED rv_histogram distribution (taking more than 30 seconds)\n",
      "Fitting 106 distributions:  80%|███████████████████████████████████████████▎          | 85/106 [03:19<01:09,  3.29s/it]WARNING:root:SKIPPED rdist distribution (taking more than 30 seconds)\n",
      "Fitting 106 distributions:  81%|███████████████████████████████████████████▊          | 86/106 [03:23<01:10,  3.53s/it]WARNING:root:SKIPPED recipinvgauss distribution (taking more than 30 seconds)\n",
      "Fitting 106 distributions:  83%|████████████████████████████████████████████▊         | 88/106 [03:39<01:34,  5.27s/it]WARNING:root:SKIPPED rice distribution (taking more than 30 seconds)\n",
      "Fitting 106 distributions:  84%|█████████████████████████████████████████████▎        | 89/106 [03:41<01:15,  4.46s/it]WARNING:root:SKIPPED skewcauchy distribution (taking more than 30 seconds)\n",
      "Fitting 106 distributions:  85%|█████████████████████████████████████████████▊        | 90/106 [03:53<01:48,  6.77s/it]C:\\ProgramData\\Anaconda3\\lib\\site-packages\\scipy\\integrate\\quadpack.py:879: IntegrationWarning: The maximum number of subdivisions (50) has been achieved.\n",
      "  If increasing the limit yields no improvement it is advised to analyze \n",
      "  the integrand in order to determine the difficulties.  If the position of a \n",
      "  local difficulty can be determined (singularity, discontinuity) one will \n",
      "  probably gain from splitting up the interval and calling the integrator \n",
      "  on the subranges.  Perhaps a special-purpose integrator should be used.\n",
      "  quad_r = quad(f, low, high, args=args, full_output=self.full_output,\n",
      "WARNING:root:SKIPPED skewnorm distribution (taking more than 30 seconds)\n",
      "Fitting 106 distributions:  86%|██████████████████████████████████████████████▎       | 91/106 [04:03<01:52,  7.50s/it]WARNING:root:SKIPPED studentized_range distribution (taking more than 30 seconds)\n",
      "Fitting 106 distributions:  87%|██████████████████████████████████████████████▊       | 92/106 [04:09<01:38,  7.05s/it]WARNING:root:SKIPPED t distribution (taking more than 30 seconds)\n",
      "Fitting 106 distributions:  88%|███████████████████████████████████████████████▍      | 93/106 [04:11<01:14,  5.74s/it]C:\\ProgramData\\Anaconda3\\lib\\site-packages\\scipy\\integrate\\quadpack.py:879: IntegrationWarning: The integral is probably divergent, or slowly convergent.\n",
      "  quad_r = quad(f, low, high, args=args, full_output=self.full_output,\n",
      "WARNING:root:SKIPPED trapezoid distribution (taking more than 30 seconds)\n",
      "Fitting 106 distributions:  89%|███████████████████████████████████████████████▉      | 94/106 [04:24<01:32,  7.70s/it]WARNING:root:SKIPPED trapz distribution (taking more than 30 seconds)\n",
      "Fitting 106 distributions:  90%|████████████████████████████████████████████████▍     | 95/106 [04:33<01:29,  8.17s/it]WARNING:root:SKIPPED triang distribution (taking more than 30 seconds)\n",
      "Fitting 106 distributions:  92%|█████████████████████████████████████████████████▍    | 97/106 [04:39<00:48,  5.44s/it]WARNING:root:SKIPPED truncexpon distribution (taking more than 30 seconds)\n",
      "Fitting 106 distributions:  93%|██████████████████████████████████████████████████▍   | 99/106 [04:44<00:26,  3.78s/it]WARNING:root:SKIPPED tukeylambda distribution (taking more than 30 seconds)\n"
     ]
    },
    {
     "name": "stderr",
     "output_type": "stream",
     "text": [
      "Fitting 106 distributions:  95%|██████████████████████████████████████████████████▌  | 101/106 [05:08<00:37,  7.42s/it]WARNING:root:SKIPPED vonmises distribution (taking more than 30 seconds)\n",
      "Fitting 106 distributions:  96%|███████████████████████████████████████████████████  | 102/106 [05:09<00:22,  5.61s/it]WARNING:root:SKIPPED vonmises_line distribution (taking more than 30 seconds)\n",
      "Fitting 106 distributions:  97%|███████████████████████████████████████████████████▌ | 103/106 [05:11<00:13,  4.52s/it]WARNING:root:SKIPPED weibull_max distribution (taking more than 30 seconds)\n",
      "Fitting 106 distributions: 100%|█████████████████████████████████████████████████████| 106/106 [05:36<00:00,  3.18s/it]\n"
     ]
    },
    {
     "data": {
      "text/html": [
       "<div>\n",
       "<style scoped>\n",
       "    .dataframe tbody tr th:only-of-type {\n",
       "        vertical-align: middle;\n",
       "    }\n",
       "\n",
       "    .dataframe tbody tr th {\n",
       "        vertical-align: top;\n",
       "    }\n",
       "\n",
       "    .dataframe thead th {\n",
       "        text-align: right;\n",
       "    }\n",
       "</style>\n",
       "<table border=\"1\" class=\"dataframe\">\n",
       "  <thead>\n",
       "    <tr style=\"text-align: right;\">\n",
       "      <th></th>\n",
       "      <th>sumsquare_error</th>\n",
       "      <th>aic</th>\n",
       "      <th>bic</th>\n",
       "      <th>kl_div</th>\n",
       "      <th>ks_statistic</th>\n",
       "      <th>ks_pvalue</th>\n",
       "    </tr>\n",
       "  </thead>\n",
       "  <tbody>\n",
       "    <tr>\n",
       "      <th>exponweib</th>\n",
       "      <td>5.656571e-15</td>\n",
       "      <td>7004.550759</td>\n",
       "      <td>-189669.207167</td>\n",
       "      <td>inf</td>\n",
       "      <td>0.034730</td>\n",
       "      <td>2.956283e-05</td>\n",
       "    </tr>\n",
       "    <tr>\n",
       "      <th>geninvgauss</th>\n",
       "      <td>5.656730e-15</td>\n",
       "      <td>6231.177171</td>\n",
       "      <td>-189669.077980</td>\n",
       "      <td>inf</td>\n",
       "      <td>0.036807</td>\n",
       "      <td>7.516167e-06</td>\n",
       "    </tr>\n",
       "    <tr>\n",
       "      <th>laplace</th>\n",
       "      <td>1.158363e-14</td>\n",
       "      <td>13456.450740</td>\n",
       "      <td>-186388.908838</td>\n",
       "      <td>inf</td>\n",
       "      <td>0.118063</td>\n",
       "      <td>2.529535e-56</td>\n",
       "    </tr>\n",
       "    <tr>\n",
       "      <th>dgamma</th>\n",
       "      <td>1.298940e-14</td>\n",
       "      <td>13139.070535</td>\n",
       "      <td>-185853.589274</td>\n",
       "      <td>inf</td>\n",
       "      <td>0.117393</td>\n",
       "      <td>1.089845e-55</td>\n",
       "    </tr>\n",
       "    <tr>\n",
       "      <th>moyal</th>\n",
       "      <td>1.361762e-14</td>\n",
       "      <td>11436.396249</td>\n",
       "      <td>-185644.759954</td>\n",
       "      <td>inf</td>\n",
       "      <td>0.045128</td>\n",
       "      <td>1.405272e-08</td>\n",
       "    </tr>\n",
       "  </tbody>\n",
       "</table>\n",
       "</div>"
      ],
      "text/plain": [
       "             sumsquare_error           aic            bic  kl_div  \\\n",
       "exponweib       5.656571e-15   7004.550759 -189669.207167     inf   \n",
       "geninvgauss     5.656730e-15   6231.177171 -189669.077980     inf   \n",
       "laplace         1.158363e-14  13456.450740 -186388.908838     inf   \n",
       "dgamma          1.298940e-14  13139.070535 -185853.589274     inf   \n",
       "moyal           1.361762e-14  11436.396249 -185644.759954     inf   \n",
       "\n",
       "             ks_statistic     ks_pvalue  \n",
       "exponweib        0.034730  2.956283e-05  \n",
       "geninvgauss      0.036807  7.516167e-06  \n",
       "laplace          0.118063  2.529535e-56  \n",
       "dgamma           0.117393  1.089845e-55  \n",
       "moyal            0.045128  1.405272e-08  "
      ]
     },
     "execution_count": 8,
     "metadata": {},
     "output_type": "execute_result"
    },
    {
     "data": {
      "image/png": "[encoded data removed]",
      "text/plain": [
       "<Figure size 640x480 with 1 Axes>"
      ]
     },
     "metadata": {},
     "output_type": "display_data"
    },
    {
     "name": "stderr",
     "output_type": "stream",
     "text": [
      "C:\\ProgramData\\Anaconda3\\lib\\site-packages\\scipy\\stats\\_continuous_distns.py:4837: IntegrationWarning: The integral is probably divergent, or slowly convergent.\n",
      "  intg = integrate.quad(f, -xi, np.pi/2, **intg_kwargs)[0]\n"
     ]
    }
   ],
   "source": [
    "f = Fitter(price)\n",
    "f.fit()\n",
    "f.summary()"
   ]
  },
  {
   "cell_type": "code",
   "execution_count": 11,
   "id": "15fbf955",
   "metadata": {},
   "outputs": [
    {
     "data": {
      "text/plain": [
       "['cauchy',\n",
       " 'chi2',\n",
       " 'expon',\n",
       " 'exponpow',\n",
       " 'gamma',\n",
       " 'lognorm',\n",
       " 'norm',\n",
       " 'powerlaw',\n",
       " 'rayleigh',\n",
       " 'uniform']"
      ]
     },
     "execution_count": 11,
     "metadata": {},
     "output_type": "execute_result"
    }
   ],
   "source": [
    "get_common_distributions()"
   ]
  },
  {
   "cell_type": "code",
   "execution_count": 13,
   "id": "59da4d0b",
   "metadata": {},
   "outputs": [
    {
     "name": "stderr",
     "output_type": "stream",
     "text": [
      "Fitting 10 distributions:  70%|███████████████████████████████████████▉                 | 7/10 [00:30<00:07,  2.35s/it]WARNING:root:SKIPPED exponpow distribution (taking more than 30 seconds)\n",
      "Fitting 10 distributions:  80%|█████████████████████████████████████████████▌           | 8/10 [00:30<00:03,  1.63s/it]WARNING:root:SKIPPED lognorm distribution (taking more than 30 seconds)\n",
      "Fitting 10 distributions:  90%|███████████████████████████████████████████████████▎     | 9/10 [00:46<00:06,  6.01s/it]WARNING:root:SKIPPED powerlaw distribution (taking more than 30 seconds)\n",
      "Fitting 10 distributions: 100%|████████████████████████████████████████████████████████| 10/10 [00:58<00:00,  5.89s/it]\n"
     ]
    },
    {
     "data": {
      "text/html": [
       "<div>\n",
       "<style scoped>\n",
       "    .dataframe tbody tr th:only-of-type {\n",
       "        vertical-align: middle;\n",
       "    }\n",
       "\n",
       "    .dataframe tbody tr th {\n",
       "        vertical-align: top;\n",
       "    }\n",
       "\n",
       "    .dataframe thead th {\n",
       "        text-align: right;\n",
       "    }\n",
       "</style>\n",
       "<table border=\"1\" class=\"dataframe\">\n",
       "  <thead>\n",
       "    <tr style=\"text-align: right;\">\n",
       "      <th></th>\n",
       "      <th>sumsquare_error</th>\n",
       "      <th>aic</th>\n",
       "      <th>bic</th>\n",
       "      <th>kl_div</th>\n",
       "      <th>ks_statistic</th>\n",
       "      <th>ks_pvalue</th>\n",
       "    </tr>\n",
       "  </thead>\n",
       "  <tbody>\n",
       "    <tr>\n",
       "      <th>cauchy</th>\n",
       "      <td>2.632022e-13</td>\n",
       "      <td>4270.471599</td>\n",
       "      <td>-172021.592596</td>\n",
       "      <td>inf</td>\n",
       "      <td>0.124415</td>\n",
       "      <td>1.608957e-62</td>\n",
       "    </tr>\n",
       "    <tr>\n",
       "      <th>rayleigh</th>\n",
       "      <td>7.725909e-13</td>\n",
       "      <td>60871.811388</td>\n",
       "      <td>-167068.188783</td>\n",
       "      <td>inf</td>\n",
       "      <td>0.203228</td>\n",
       "      <td>4.781414e-167</td>\n",
       "    </tr>\n",
       "    <tr>\n",
       "      <th>norm</th>\n",
       "      <td>1.251762e-12</td>\n",
       "      <td>72461.800244</td>\n",
       "      <td>-164848.422721</td>\n",
       "      <td>inf</td>\n",
       "      <td>0.219197</td>\n",
       "      <td>1.473231e-194</td>\n",
       "    </tr>\n",
       "    <tr>\n",
       "      <th>expon</th>\n",
       "      <td>1.592242e-12</td>\n",
       "      <td>7465.599243</td>\n",
       "      <td>-163741.705076</td>\n",
       "      <td>inf</td>\n",
       "      <td>0.259516</td>\n",
       "      <td>9.269313e-274</td>\n",
       "    </tr>\n",
       "    <tr>\n",
       "      <th>uniform</th>\n",
       "      <td>4.069296e-12</td>\n",
       "      <td>3423.209153</td>\n",
       "      <td>-159425.400439</td>\n",
       "      <td>inf</td>\n",
       "      <td>0.919669</td>\n",
       "      <td>0.000000e+00</td>\n",
       "    </tr>\n",
       "  </tbody>\n",
       "</table>\n",
       "</div>"
      ],
      "text/plain": [
       "          sumsquare_error           aic            bic  kl_div  ks_statistic  \\\n",
       "cauchy       2.632022e-13   4270.471599 -172021.592596     inf      0.124415   \n",
       "rayleigh     7.725909e-13  60871.811388 -167068.188783     inf      0.203228   \n",
       "norm         1.251762e-12  72461.800244 -164848.422721     inf      0.219197   \n",
       "expon        1.592242e-12   7465.599243 -163741.705076     inf      0.259516   \n",
       "uniform      4.069296e-12   3423.209153 -159425.400439     inf      0.919669   \n",
       "\n",
       "              ks_pvalue  \n",
       "cauchy     1.608957e-62  \n",
       "rayleigh  4.781414e-167  \n",
       "norm      1.473231e-194  \n",
       "expon     9.269313e-274  \n",
       "uniform    0.000000e+00  "
      ]
     },
     "execution_count": 13,
     "metadata": {},
     "output_type": "execute_result"
    },
    {
     "data": {
      "image/png": "[encoded data removed]",
      "text/plain": [
       "<Figure size 640x480 with 1 Axes>"
      ]
     },
     "metadata": {},
     "output_type": "display_data"
    }
   ],
   "source": [
    "f = Fitter(price,\n",
    "           distributions=['cauchy',\n",
    "                         'chi2',\n",
    "                         'expon',\n",
    "                         'exponpow',\n",
    "                         'gamma',\n",
    "                         'lognorm',\n",
    "                         'norm',\n",
    "                         'powerlaw',\n",
    "                         'rayleigh',\n",
    "                         'uniform'])\n",
    "f.fit()\n",
    "f.summary()"
   ]
  },
  {
   "cell_type": "code",
   "execution_count": 14,
   "id": "3d593854",
   "metadata": {},
   "outputs": [
    {
     "data": {
      "text/plain": [
       "{'cauchy': {'loc': 440285.20002010616, 'scale': 142473.19320617476}}"
      ]
     },
     "execution_count": 14,
     "metadata": {},
     "output_type": "execute_result"
    }
   ],
   "source": [
    "f.get_best(method = 'sumsquare_error')"
   ]
  },
  {
   "cell_type": "code",
   "execution_count": 16,
   "id": "eaec62ba",
   "metadata": {},
   "outputs": [
    {
     "data": {
      "text/plain": [
       "(440285.20002010616, 142473.19320617476)"
      ]
     },
     "execution_count": 16,
     "metadata": {},
     "output_type": "execute_result"
    },
    {
     "name": "stderr",
     "output_type": "stream",
     "text": [
      "C:\\ProgramData\\Anaconda3\\lib\\site-packages\\scipy\\stats\\_continuous_distns.py:4837: IntegrationWarning: The integral is probably divergent, or slowly convergent.\n",
      "  intg = integrate.quad(f, -xi, np.pi/2, **intg_kwargs)[0]\n"
     ]
    }
   ],
   "source": [
    "f.fitted_param[\"cauchy\"]"
   ]
  },
  {
   "cell_type": "code",
   "execution_count": null,
   "id": "5851700c",
   "metadata": {},
   "outputs": [],
   "source": []
  }
 ],
 "metadata": {
  "kernelspec": {
   "display_name": "Python 3 (ipykernel)",
   "language": "python",
   "name": "python3"
  },
  "language_info": {
   "codemirror_mode": {
    "name": "ipython",
    "version": 3
   },
   "file_extension": ".py",
   "mimetype": "text/x-python",
   "name": "python",
   "nbconvert_exporter": "python",
   "pygments_lexer": "ipython3",
   "version": "3.9.12"
  }
 },
 "nbformat": 4,
 "nbformat_minor": 5
}
