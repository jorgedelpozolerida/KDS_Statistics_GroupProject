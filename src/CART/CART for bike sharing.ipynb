{
 "cells": [
  {
   "cell_type": "code",
   "execution_count": 1,
   "id": "467ac35b",
   "metadata": {},
   "outputs": [],
   "source": [
    "import os\n",
    "\n",
    "import pandas as pd\n",
    "import numpy as np\n",
    "\n",
    "from sklearn.datasets import make_regression\n",
    "from sklearn.tree import DecisionTreeRegressor\n",
    "from sklearn.linear_model import LinearRegression, Ridge, Lasso\n",
    "from sklearn.ensemble import RandomForestRegressor\n",
    "\n",
    "import matplotlib.pyplot as plt\n",
    "import seaborn as sns\n",
    "\n",
    "from sklearn.preprocessing import MinMaxScaler"
   ]
  },
  {
   "cell_type": "code",
   "execution_count": 2,
   "id": "caf673f8",
   "metadata": {},
   "outputs": [],
   "source": [
    "ranks = {}\n",
    "def ranking(ranks, names, order=1):\n",
    "    minmax = MinMaxScaler()\n",
    "    ranks = minmax.fit_transform(order*np.array([ranks]).T).T[0]\n",
    "    ranks = map(lambda x: round(x,2), ranks)\n",
    "    return dict(zip(names, ranks))"
   ]
  },
  {
   "cell_type": "code",
   "execution_count": 3,
   "id": "59fbda51",
   "metadata": {},
   "outputs": [
    {
     "data": {
      "text/html": [
       "<div>\n",
       "<style scoped>\n",
       "    .dataframe tbody tr th:only-of-type {\n",
       "        vertical-align: middle;\n",
       "    }\n",
       "\n",
       "    .dataframe tbody tr th {\n",
       "        vertical-align: top;\n",
       "    }\n",
       "\n",
       "    .dataframe thead th {\n",
       "        text-align: right;\n",
       "    }\n",
       "</style>\n",
       "<table border=\"1\" class=\"dataframe\">\n",
       "  <thead>\n",
       "    <tr style=\"text-align: right;\">\n",
       "      <th></th>\n",
       "      <th>season</th>\n",
       "      <th>yr</th>\n",
       "      <th>mnth</th>\n",
       "      <th>hr</th>\n",
       "      <th>holiday</th>\n",
       "      <th>weekday</th>\n",
       "      <th>workingday</th>\n",
       "      <th>weathersit</th>\n",
       "      <th>temp</th>\n",
       "      <th>atemp</th>\n",
       "      <th>hum</th>\n",
       "      <th>windspeed</th>\n",
       "      <th>cnt</th>\n",
       "    </tr>\n",
       "  </thead>\n",
       "  <tbody>\n",
       "    <tr>\n",
       "      <th>0</th>\n",
       "      <td>0.0</td>\n",
       "      <td>0.0</td>\n",
       "      <td>0.0</td>\n",
       "      <td>0.000000</td>\n",
       "      <td>0.0</td>\n",
       "      <td>1.0</td>\n",
       "      <td>0.0</td>\n",
       "      <td>0.0</td>\n",
       "      <td>0.224490</td>\n",
       "      <td>0.2879</td>\n",
       "      <td>0.81</td>\n",
       "      <td>0.0</td>\n",
       "      <td>16</td>\n",
       "    </tr>\n",
       "    <tr>\n",
       "      <th>1</th>\n",
       "      <td>0.0</td>\n",
       "      <td>0.0</td>\n",
       "      <td>0.0</td>\n",
       "      <td>0.043478</td>\n",
       "      <td>0.0</td>\n",
       "      <td>1.0</td>\n",
       "      <td>0.0</td>\n",
       "      <td>0.0</td>\n",
       "      <td>0.204082</td>\n",
       "      <td>0.2727</td>\n",
       "      <td>0.80</td>\n",
       "      <td>0.0</td>\n",
       "      <td>40</td>\n",
       "    </tr>\n",
       "    <tr>\n",
       "      <th>2</th>\n",
       "      <td>0.0</td>\n",
       "      <td>0.0</td>\n",
       "      <td>0.0</td>\n",
       "      <td>0.086957</td>\n",
       "      <td>0.0</td>\n",
       "      <td>1.0</td>\n",
       "      <td>0.0</td>\n",
       "      <td>0.0</td>\n",
       "      <td>0.204082</td>\n",
       "      <td>0.2727</td>\n",
       "      <td>0.80</td>\n",
       "      <td>0.0</td>\n",
       "      <td>32</td>\n",
       "    </tr>\n",
       "    <tr>\n",
       "      <th>3</th>\n",
       "      <td>0.0</td>\n",
       "      <td>0.0</td>\n",
       "      <td>0.0</td>\n",
       "      <td>0.130435</td>\n",
       "      <td>0.0</td>\n",
       "      <td>1.0</td>\n",
       "      <td>0.0</td>\n",
       "      <td>0.0</td>\n",
       "      <td>0.224490</td>\n",
       "      <td>0.2879</td>\n",
       "      <td>0.75</td>\n",
       "      <td>0.0</td>\n",
       "      <td>13</td>\n",
       "    </tr>\n",
       "    <tr>\n",
       "      <th>4</th>\n",
       "      <td>0.0</td>\n",
       "      <td>0.0</td>\n",
       "      <td>0.0</td>\n",
       "      <td>0.173913</td>\n",
       "      <td>0.0</td>\n",
       "      <td>1.0</td>\n",
       "      <td>0.0</td>\n",
       "      <td>0.0</td>\n",
       "      <td>0.224490</td>\n",
       "      <td>0.2879</td>\n",
       "      <td>0.75</td>\n",
       "      <td>0.0</td>\n",
       "      <td>1</td>\n",
       "    </tr>\n",
       "  </tbody>\n",
       "</table>\n",
       "</div>"
      ],
      "text/plain": [
       "   season   yr  mnth        hr  holiday  weekday  workingday  weathersit  \\\n",
       "0     0.0  0.0   0.0  0.000000      0.0      1.0         0.0         0.0   \n",
       "1     0.0  0.0   0.0  0.043478      0.0      1.0         0.0         0.0   \n",
       "2     0.0  0.0   0.0  0.086957      0.0      1.0         0.0         0.0   \n",
       "3     0.0  0.0   0.0  0.130435      0.0      1.0         0.0         0.0   \n",
       "4     0.0  0.0   0.0  0.173913      0.0      1.0         0.0         0.0   \n",
       "\n",
       "       temp   atemp   hum  windspeed  cnt  \n",
       "0  0.224490  0.2879  0.81        0.0   16  \n",
       "1  0.204082  0.2727  0.80        0.0   40  \n",
       "2  0.204082  0.2727  0.80        0.0   32  \n",
       "3  0.224490  0.2879  0.75        0.0   13  \n",
       "4  0.224490  0.2879  0.75        0.0    1  "
      ]
     },
     "execution_count": 3,
     "metadata": {},
     "output_type": "execute_result"
    }
   ],
   "source": [
    "df = pd.read_csv(\"../../datasets/Bike Sharing/preprocessed_hour.csv\")\n",
    "df.head()"
   ]
  },
  {
   "cell_type": "code",
   "execution_count": 4,
   "id": "302a29c3",
   "metadata": {},
   "outputs": [],
   "source": [
    "X = df.copy()\n",
    "y = X.pop(\"cnt\")\n",
    "colnames = X.columns"
   ]
  },
  {
   "cell_type": "code",
   "execution_count": 5,
   "id": "260e9e06",
   "metadata": {},
   "outputs": [
    {
     "data": {
      "text/plain": [
       "DecisionTreeRegressor()"
      ]
     },
     "execution_count": 5,
     "metadata": {},
     "output_type": "execute_result"
    }
   ],
   "source": [
    "model = DecisionTreeRegressor()\n",
    "model.fit(X, y)"
   ]
  },
  {
   "cell_type": "code",
   "execution_count": 6,
   "id": "7a1d458c",
   "metadata": {},
   "outputs": [
    {
     "name": "stdout",
     "output_type": "stream",
     "text": [
      "Feature: 0, Score: 0.02219\n",
      "Feature: 1, Score: 0.07961\n",
      "Feature: 2, Score: 0.01696\n",
      "Feature: 3, Score: 0.60954\n",
      "Feature: 4, Score: 0.00276\n",
      "Feature: 5, Score: 0.01309\n",
      "Feature: 6, Score: 0.06196\n",
      "Feature: 7, Score: 0.01756\n",
      "Feature: 8, Score: 0.12022\n",
      "Feature: 9, Score: 0.01867\n",
      "Feature: 10, Score: 0.02658\n",
      "Feature: 11, Score: 0.01087\n"
     ]
    },
    {
     "data": {
      "image/png": "[encoded data removed]",
      "text/plain": [
       "<Figure size 432x288 with 1 Axes>"
      ]
     },
     "metadata": {
      "needs_background": "light"
     },
     "output_type": "display_data"
    }
   ],
   "source": [
    "importance = model.feature_importances_\n",
    "# summarize feature importance\n",
    "for i,v in enumerate(importance):\n",
    "    print('Feature: %0d, Score: %.5f' % (i,v))\n",
    "    \n",
    "# plot feature importance\n",
    "plt.bar([x for x in range(len(importance))], importance)\n",
    "plt.show()"
   ]
  },
  {
   "cell_type": "code",
   "execution_count": 7,
   "id": "96b2e771",
   "metadata": {},
   "outputs": [
    {
     "data": {
      "text/plain": [
       "{'CART': {'season': 0.03,\n",
       "  'yr': 0.13,\n",
       "  'mnth': 0.02,\n",
       "  'hr': 1.0,\n",
       "  'holiday': 0.0,\n",
       "  'weekday': 0.02,\n",
       "  'workingday': 0.1,\n",
       "  'weathersit': 0.02,\n",
       "  'temp': 0.19,\n",
       "  'atemp': 0.02,\n",
       "  'hum': 0.04,\n",
       "  'windspeed': 0.01}}"
      ]
     },
     "execution_count": 7,
     "metadata": {},
     "output_type": "execute_result"
    }
   ],
   "source": [
    "cart = DecisionTreeRegressor()\n",
    "cart.fit(X,y)\n",
    "ranks[\"CART\"] = ranking(cart.feature_importances_, colnames);\n",
    "ranks"
   ]
  },
  {
   "cell_type": "code",
   "execution_count": 8,
   "id": "89b6e062",
   "metadata": {},
   "outputs": [],
   "source": [
    "decimalrank_df = pd.DataFrame()\n",
    "\n",
    "# Join preranks in dataframe\n",
    "for method_name, rank_list in ranks.items():\n",
    "    df_Temp = pd.DataFrame(data = {method_name:pd.Series(rank_list)})\n",
    "    decimalrank_df = pd.concat([decimalrank_df,df_Temp ], axis=1)\n",
    "\n",
    "rank_df = pd.DataFrame()\n",
    "# Create new integer ranks\n",
    "for method_name, rank_list in ranks.items():\n",
    "    rank_df[method_name] = decimalrank_df[method_name].rank(ascending=False)\n",
    "\n",
    "rank_df['feature_name'] = rank_df.index"
   ]
  },
  {
   "cell_type": "code",
   "execution_count": 9,
   "id": "3d40ed2c",
   "metadata": {},
   "outputs": [
    {
     "data": {
      "text/html": [
       "<div>\n",
       "<style scoped>\n",
       "    .dataframe tbody tr th:only-of-type {\n",
       "        vertical-align: middle;\n",
       "    }\n",
       "\n",
       "    .dataframe tbody tr th {\n",
       "        vertical-align: top;\n",
       "    }\n",
       "\n",
       "    .dataframe thead th {\n",
       "        text-align: right;\n",
       "    }\n",
       "</style>\n",
       "<table border=\"1\" class=\"dataframe\">\n",
       "  <thead>\n",
       "    <tr style=\"text-align: right;\">\n",
       "      <th></th>\n",
       "      <th>feature_name</th>\n",
       "      <th>method</th>\n",
       "      <th>feature_rank</th>\n",
       "      <th>dataset</th>\n",
       "    </tr>\n",
       "  </thead>\n",
       "  <tbody>\n",
       "    <tr>\n",
       "      <th>0</th>\n",
       "      <td>season</td>\n",
       "      <td>CART</td>\n",
       "      <td>6.0</td>\n",
       "      <td>Bike_sharing</td>\n",
       "    </tr>\n",
       "    <tr>\n",
       "      <th>1</th>\n",
       "      <td>yr</td>\n",
       "      <td>CART</td>\n",
       "      <td>3.0</td>\n",
       "      <td>Bike_sharing</td>\n",
       "    </tr>\n",
       "    <tr>\n",
       "      <th>2</th>\n",
       "      <td>mnth</td>\n",
       "      <td>CART</td>\n",
       "      <td>8.5</td>\n",
       "      <td>Bike_sharing</td>\n",
       "    </tr>\n",
       "    <tr>\n",
       "      <th>3</th>\n",
       "      <td>hr</td>\n",
       "      <td>CART</td>\n",
       "      <td>1.0</td>\n",
       "      <td>Bike_sharing</td>\n",
       "    </tr>\n",
       "    <tr>\n",
       "      <th>4</th>\n",
       "      <td>holiday</td>\n",
       "      <td>CART</td>\n",
       "      <td>12.0</td>\n",
       "      <td>Bike_sharing</td>\n",
       "    </tr>\n",
       "    <tr>\n",
       "      <th>5</th>\n",
       "      <td>weekday</td>\n",
       "      <td>CART</td>\n",
       "      <td>8.5</td>\n",
       "      <td>Bike_sharing</td>\n",
       "    </tr>\n",
       "    <tr>\n",
       "      <th>6</th>\n",
       "      <td>workingday</td>\n",
       "      <td>CART</td>\n",
       "      <td>4.0</td>\n",
       "      <td>Bike_sharing</td>\n",
       "    </tr>\n",
       "    <tr>\n",
       "      <th>7</th>\n",
       "      <td>weathersit</td>\n",
       "      <td>CART</td>\n",
       "      <td>8.5</td>\n",
       "      <td>Bike_sharing</td>\n",
       "    </tr>\n",
       "    <tr>\n",
       "      <th>8</th>\n",
       "      <td>temp</td>\n",
       "      <td>CART</td>\n",
       "      <td>2.0</td>\n",
       "      <td>Bike_sharing</td>\n",
       "    </tr>\n",
       "    <tr>\n",
       "      <th>9</th>\n",
       "      <td>atemp</td>\n",
       "      <td>CART</td>\n",
       "      <td>8.5</td>\n",
       "      <td>Bike_sharing</td>\n",
       "    </tr>\n",
       "    <tr>\n",
       "      <th>10</th>\n",
       "      <td>hum</td>\n",
       "      <td>CART</td>\n",
       "      <td>5.0</td>\n",
       "      <td>Bike_sharing</td>\n",
       "    </tr>\n",
       "    <tr>\n",
       "      <th>11</th>\n",
       "      <td>windspeed</td>\n",
       "      <td>CART</td>\n",
       "      <td>11.0</td>\n",
       "      <td>Bike_sharing</td>\n",
       "    </tr>\n",
       "  </tbody>\n",
       "</table>\n",
       "</div>"
      ],
      "text/plain": [
       "   feature_name method  feature_rank       dataset\n",
       "0        season   CART           6.0  Bike_sharing\n",
       "1            yr   CART           3.0  Bike_sharing\n",
       "2          mnth   CART           8.5  Bike_sharing\n",
       "3            hr   CART           1.0  Bike_sharing\n",
       "4       holiday   CART          12.0  Bike_sharing\n",
       "5       weekday   CART           8.5  Bike_sharing\n",
       "6    workingday   CART           4.0  Bike_sharing\n",
       "7    weathersit   CART           8.5  Bike_sharing\n",
       "8          temp   CART           2.0  Bike_sharing\n",
       "9         atemp   CART           8.5  Bike_sharing\n",
       "10          hum   CART           5.0  Bike_sharing\n",
       "11    windspeed   CART          11.0  Bike_sharing"
      ]
     },
     "execution_count": 9,
     "metadata": {},
     "output_type": "execute_result"
    }
   ],
   "source": [
    "ranksout = rank_df.melt(id_vars = 'feature_name', var_name='method', value_name='feature_rank')\n",
    "ranksout['dataset'] = 'Bike_sharing'\n",
    "ranksout"
   ]
  },
  {
   "cell_type": "code",
   "execution_count": 10,
   "id": "7055f932",
   "metadata": {},
   "outputs": [],
   "source": [
    "ranksout.to_csv('../../data/CART/bike_sharing_featureranks_CART.csv', sep=';',index=False)"
   ]
  }
 ],
 "metadata": {
  "kernelspec": {
   "display_name": "Python 3 (ipykernel)",
   "language": "python",
   "name": "python3"
  },
  "language_info": {
   "codemirror_mode": {
    "name": "ipython",
    "version": 3
   },
   "file_extension": ".py",
   "mimetype": "text/x-python",
   "name": "python",
   "nbconvert_exporter": "python",
   "pygments_lexer": "ipython3",
   "version": "3.9.12"
  }
 },
 "nbformat": 4,
 "nbformat_minor": 5
}
